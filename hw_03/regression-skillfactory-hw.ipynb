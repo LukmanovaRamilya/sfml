{
 "cells": [
  {
   "cell_type": "markdown",
   "metadata": {
    "toc": "true"
   },
   "source": [
    "# Table of Contents\n",
    " <p><div class=\"lev1 toc-item\"><a href=\"#Skillfactory---Практический-Machine-Learning\" data-toc-modified-id=\"Skillfactory---Практический-Machine-Learning-1\"><span class=\"toc-item-num\">1&nbsp;&nbsp;</span>Skillfactory - Практический Machine Learning</a></div><div class=\"lev2 toc-item\"><a href=\"#15/02/2018---Практика-с-линейной-регрессией\" data-toc-modified-id=\"15/02/2018---Практика-с-линейной-регрессией-11\"><span class=\"toc-item-num\">1.1&nbsp;&nbsp;</span>15/02/2018 - Практика с линейной регрессией</a></div><div class=\"lev2 toc-item\"><a href=\"#Описание-набора-данных:\" data-toc-modified-id=\"Описание-набора-данных:-12\"><span class=\"toc-item-num\">1.2&nbsp;&nbsp;</span>Описание набора данных:</a></div><div class=\"lev3 toc-item\"><a href=\"#Переменные:\" data-toc-modified-id=\"Переменные:-121\"><span class=\"toc-item-num\">1.2.1&nbsp;&nbsp;</span>Переменные:</a></div><div class=\"lev3 toc-item\"><a href=\"#Постановка-задачи:-\" data-toc-modified-id=\"Постановка-задачи:--122\"><span class=\"toc-item-num\">1.2.2&nbsp;&nbsp;</span>Постановка задачи: <br></a></div><div class=\"lev3 toc-item\"><a href=\"#Предобработка-данных:\" data-toc-modified-id=\"Предобработка-данных:-123\"><span class=\"toc-item-num\">1.2.3&nbsp;&nbsp;</span>Предобработка данных:</a></div><div class=\"lev3 toc-item\"><a href=\"#Первичный-анализ-признаков:\" data-toc-modified-id=\"Первичный-анализ-признаков:-124\"><span class=\"toc-item-num\">1.2.4&nbsp;&nbsp;</span>Первичный анализ признаков:</a></div><div class=\"lev4 toc-item\"><a href=\"#Вещественные-признаки\" data-toc-modified-id=\"Вещественные-признаки-1241\"><span class=\"toc-item-num\">1.2.4.1&nbsp;&nbsp;</span>Вещественные признаки</a></div><div class=\"lev4 toc-item\"><a href=\"#Категориальные-признаки\" data-toc-modified-id=\"Категориальные-признаки-1242\"><span class=\"toc-item-num\">1.2.4.2&nbsp;&nbsp;</span>Категориальные признаки</a></div><div class=\"lev4 toc-item\"><a href=\"#Анализ-линейных-зависимостей-в-данных\" data-toc-modified-id=\"Анализ-линейных-зависимостей-в-данных-1243\"><span class=\"toc-item-num\">1.2.4.3&nbsp;&nbsp;</span>Анализ линейных зависимостей в данных</a></div><div class=\"lev4 toc-item\"><a href=\"#Распределение-некоторых-признаков\" data-toc-modified-id=\"Распределение-некоторых-признаков-1244\"><span class=\"toc-item-num\">1.2.4.4&nbsp;&nbsp;</span>Распределение некоторых признаков</a></div><div class=\"lev4 toc-item\"><a href=\"#Парные-распределения-с-целевыми-признаками\" data-toc-modified-id=\"Парные-распределения-с-целевыми-признаками-1245\"><span class=\"toc-item-num\">1.2.4.5&nbsp;&nbsp;</span>Парные распределения с целевыми признаками</a></div><div class=\"lev1 toc-item\"><a href=\"#Getting-hands-dirty\" data-toc-modified-id=\"Getting-hands-dirty-2\"><span class=\"toc-item-num\">2&nbsp;&nbsp;</span>Getting hands dirty</a></div><div class=\"lev3 toc-item\"><a href=\"#Задание-(0.25)\" data-toc-modified-id=\"Задание-(0.25)-201\"><span class=\"toc-item-num\">2.0.1&nbsp;&nbsp;</span>Задание (0.25)</a></div><div class=\"lev3 toc-item\"><a href=\"#Задание-(0.25)\" data-toc-modified-id=\"Задание-(0.25)-202\"><span class=\"toc-item-num\">2.0.2&nbsp;&nbsp;</span>Задание (0.25)</a></div><div class=\"lev2 toc-item\"><a href=\"#Baseline-modelling\" data-toc-modified-id=\"Baseline-modelling-21\"><span class=\"toc-item-num\">2.1&nbsp;&nbsp;</span>Baseline modelling</a></div><div class=\"lev3 toc-item\"><a href=\"#Задание-(0.10)\" data-toc-modified-id=\"Задание-(0.10)-211\"><span class=\"toc-item-num\">2.1.1&nbsp;&nbsp;</span>Задание (0.10)</a></div><div class=\"lev3 toc-item\"><a href=\"#Задание-(0.15)\" data-toc-modified-id=\"Задание-(0.15)-212\"><span class=\"toc-item-num\">2.1.2&nbsp;&nbsp;</span>Задание (0.15)</a></div><div class=\"lev3 toc-item\"><a href=\"#Задание-(0.25)\" data-toc-modified-id=\"Задание-(0.25)-213\"><span class=\"toc-item-num\">2.1.3&nbsp;&nbsp;</span>Задание (0.25)</a></div>"
   ]
  },
  {
   "cell_type": "markdown",
   "metadata": {},
   "source": [
    "# Skillfactory - Практический Machine Learning\n",
    "## 15/02/2018 - Практика с линейной регрессией\n",
    "\n",
    "<center> Шестаков Андрей </center>"
   ]
  },
  {
   "cell_type": "markdown",
   "metadata": {},
   "source": [
    "Данные: <a href=\"https://www.kaggle.com/c/bike-sharing-demand\">Bike Sharing Demand</a>.\n"
   ]
  },
  {
   "cell_type": "code",
   "execution_count": 1,
   "metadata": {},
   "outputs": [],
   "source": [
    "import seaborn as sns\n",
    "import datetime as dt\n",
    "import pandas as pd\n",
    "import numpy as np\n",
    "import matplotlib.pyplot as plt\n",
    "from sklearn.preprocessing import OneHotEncoder\n",
    "\n",
    "%matplotlib inline"
   ]
  },
  {
   "cell_type": "code",
   "execution_count": 2,
   "metadata": {},
   "outputs": [
    {
     "data": {
      "text/html": [
       "<div>\n",
       "<style scoped>\n",
       "    .dataframe tbody tr th:only-of-type {\n",
       "        vertical-align: middle;\n",
       "    }\n",
       "\n",
       "    .dataframe tbody tr th {\n",
       "        vertical-align: top;\n",
       "    }\n",
       "\n",
       "    .dataframe thead th {\n",
       "        text-align: right;\n",
       "    }\n",
       "</style>\n",
       "<table border=\"1\" class=\"dataframe\">\n",
       "  <thead>\n",
       "    <tr style=\"text-align: right;\">\n",
       "      <th></th>\n",
       "      <th>datetime</th>\n",
       "      <th>season</th>\n",
       "      <th>holiday</th>\n",
       "      <th>workingday</th>\n",
       "      <th>weather</th>\n",
       "      <th>temp</th>\n",
       "      <th>atemp</th>\n",
       "      <th>humidity</th>\n",
       "      <th>windspeed</th>\n",
       "      <th>casual</th>\n",
       "      <th>registered</th>\n",
       "      <th>count</th>\n",
       "    </tr>\n",
       "  </thead>\n",
       "  <tbody>\n",
       "    <tr>\n",
       "      <th>0</th>\n",
       "      <td>2011-01-01 00:00:00</td>\n",
       "      <td>1</td>\n",
       "      <td>0</td>\n",
       "      <td>0</td>\n",
       "      <td>1</td>\n",
       "      <td>9.84</td>\n",
       "      <td>14.395</td>\n",
       "      <td>81</td>\n",
       "      <td>0.0</td>\n",
       "      <td>3</td>\n",
       "      <td>13</td>\n",
       "      <td>16</td>\n",
       "    </tr>\n",
       "    <tr>\n",
       "      <th>1</th>\n",
       "      <td>2011-01-01 01:00:00</td>\n",
       "      <td>1</td>\n",
       "      <td>0</td>\n",
       "      <td>0</td>\n",
       "      <td>1</td>\n",
       "      <td>9.02</td>\n",
       "      <td>13.635</td>\n",
       "      <td>80</td>\n",
       "      <td>0.0</td>\n",
       "      <td>8</td>\n",
       "      <td>32</td>\n",
       "      <td>40</td>\n",
       "    </tr>\n",
       "    <tr>\n",
       "      <th>2</th>\n",
       "      <td>2011-01-01 02:00:00</td>\n",
       "      <td>1</td>\n",
       "      <td>0</td>\n",
       "      <td>0</td>\n",
       "      <td>1</td>\n",
       "      <td>9.02</td>\n",
       "      <td>13.635</td>\n",
       "      <td>80</td>\n",
       "      <td>0.0</td>\n",
       "      <td>5</td>\n",
       "      <td>27</td>\n",
       "      <td>32</td>\n",
       "    </tr>\n",
       "    <tr>\n",
       "      <th>3</th>\n",
       "      <td>2011-01-01 03:00:00</td>\n",
       "      <td>1</td>\n",
       "      <td>0</td>\n",
       "      <td>0</td>\n",
       "      <td>1</td>\n",
       "      <td>9.84</td>\n",
       "      <td>14.395</td>\n",
       "      <td>75</td>\n",
       "      <td>0.0</td>\n",
       "      <td>3</td>\n",
       "      <td>10</td>\n",
       "      <td>13</td>\n",
       "    </tr>\n",
       "    <tr>\n",
       "      <th>4</th>\n",
       "      <td>2011-01-01 04:00:00</td>\n",
       "      <td>1</td>\n",
       "      <td>0</td>\n",
       "      <td>0</td>\n",
       "      <td>1</td>\n",
       "      <td>9.84</td>\n",
       "      <td>14.395</td>\n",
       "      <td>75</td>\n",
       "      <td>0.0</td>\n",
       "      <td>0</td>\n",
       "      <td>1</td>\n",
       "      <td>1</td>\n",
       "    </tr>\n",
       "  </tbody>\n",
       "</table>\n",
       "</div>"
      ],
      "text/plain": [
       "              datetime  season  holiday  workingday  weather  temp   atemp  \\\n",
       "0  2011-01-01 00:00:00       1        0           0        1  9.84  14.395   \n",
       "1  2011-01-01 01:00:00       1        0           0        1  9.02  13.635   \n",
       "2  2011-01-01 02:00:00       1        0           0        1  9.02  13.635   \n",
       "3  2011-01-01 03:00:00       1        0           0        1  9.84  14.395   \n",
       "4  2011-01-01 04:00:00       1        0           0        1  9.84  14.395   \n",
       "\n",
       "   humidity  windspeed  casual  registered  count  \n",
       "0        81        0.0       3          13     16  \n",
       "1        80        0.0       8          32     40  \n",
       "2        80        0.0       5          27     32  \n",
       "3        75        0.0       3          10     13  \n",
       "4        75        0.0       0           1      1  "
      ]
     },
     "execution_count": 2,
     "metadata": {},
     "output_type": "execute_result"
    }
   ],
   "source": [
    "df = pd.read_csv('train_bikes.csv')\n",
    "\n",
    "\n",
    "df.head()"
   ]
  },
  {
   "cell_type": "markdown",
   "metadata": {},
   "source": [
    "## Описание набора данных:\n",
    "Набор данных предоставляет информацию о почасовой аренде велосипедов в течение двух лет в Вашингтоне, округ Колумбия. Для аренды использовались специальные киоски, которые давали возможность случайным прохожим и постоянным клиентам(имеющим регистрацию) взять велосипед на прокат. Данный процесс автоматизирован.\n",
    "\n",
    "Данные в тренеровочной выборке собраны за 2 года с 1 по 19 число каждого месяца. В конечном счете требуется предсказать спрос на остальные дни месяца."
   ]
  },
  {
   "cell_type": "markdown",
   "metadata": {},
   "source": [
    "### Переменные:\n",
    "- *datatime:* метка времени + дата, к который относится каждый час суток\n",
    "- *season:* сезон\n",
    "  1. весна\n",
    "  2. лето\n",
    "  3. осень\n",
    "  4. зима\n",
    "  \n",
    "  \n",
    "- *holiday:* считается ли день праздником. В исходных данных \n",
    "  0. нет\n",
    "  1. да\n",
    "  \n",
    "  \n",
    "- *weather:* погода\n",
    "\n",
    "  1. ясно, небольшая облачность, частичная облачность\n",
    "  2. туман + облачность, туман + разорванные облака, туман + небольшая облачность, туман\n",
    "  3. легкий снег, дождь + гроза + переменная облачность, небольшой дождь + вероятна облачность\n",
    "  4. сильный дождь + ледяной дождь + гроза + туман, снег + тумат\n",
    "  \n",
    "  \n",
    "- *temp:* температура в градусах Цельсия (показания датчиков)\n",
    "- *atemp:* \"Ощущаемая\" температура в градусах Цельсия \n",
    "- *humidity:* относительная влажность\n",
    "- *windspeed:* скорость ветра\n",
    "- *workingday:* отметка, если день не выходной и не праздник  \n",
    "- *casual:* количество незарегистрированных пользователей аренды\n",
    "- *registered:* количество зарегистрированных пользователей аренды\n",
    "- *count:* общее количество аренды"
   ]
  },
  {
   "cell_type": "markdown",
   "metadata": {},
   "source": [
    "### Постановка задачи: <br>\n",
    "Необходимо спрогнозировать спрос на велосипеды (признаки casual, registred, count).\n",
    "\n",
    "Разработанная модель может помочь выявить наиболее значимые признаки в прогнозировании спроса на прокатные велосипеды разных типов пользователей.\n",
    "\n",
    "* casual - это незарегестрированные пользователи, которые, возможно, редко пользуются прокатом и им не выгодно оформлять абонемент\n",
    "* registred - это пользователи, которые завели себе абонемент\n",
    "* count - registred+casual\n",
    "\n",
    "Соответственно целевой переменной может быть любое из этих вариантов\n",
    "\n",
    "Качество оценивается c помощью Root Mean Squared Logarithmic Error (RMSLE) - то есть недопрогноз в данном случае хуже, чем перепрогноз"
   ]
  },
  {
   "cell_type": "markdown",
   "metadata": {},
   "source": [
    "### Предобработка данных:"
   ]
  },
  {
   "cell_type": "markdown",
   "metadata": {},
   "source": [
    "Бинарные признаки уже закодированы. <br> \n",
    "К категориальным переменным можно применить  One-hot encoding <br>\n",
    "Можно отдельно выделить признаки для \"времени дня\", \"месяца\" и дня недели"
   ]
  },
  {
   "cell_type": "code",
   "execution_count": 3,
   "metadata": {},
   "outputs": [],
   "source": [
    "def get_date_features(df):\n",
    "    df['datetime'] = pd.to_datetime(df['datetime'], format='%Y-%m-%d %H:%M')\n",
    "    df['year'] = df.loc[:, 'datetime'].dt.year\n",
    "    df['month'] = df.loc[:, 'datetime'].dt.month\n",
    "    df['day'] = df.loc[:, 'datetime'].dt.day\n",
    "    df['hour'] = df.loc[:, 'datetime'].dt.hour\n",
    "    df['weekday'] = df.loc[:, 'datetime'].dt.weekday\n",
    "    \n",
    "    return df"
   ]
  },
  {
   "cell_type": "code",
   "execution_count": 4,
   "metadata": {},
   "outputs": [],
   "source": [
    "df = df.pipe(get_date_features)"
   ]
  },
  {
   "cell_type": "markdown",
   "metadata": {},
   "source": [
    "### Первичный анализ признаков:"
   ]
  },
  {
   "cell_type": "markdown",
   "metadata": {},
   "source": [
    "Основные характеристики переменных и их описание."
   ]
  },
  {
   "cell_type": "markdown",
   "metadata": {},
   "source": [
    "#### Вещественные признаки"
   ]
  },
  {
   "cell_type": "code",
   "execution_count": 5,
   "metadata": {},
   "outputs": [
    {
     "name": "stdout",
     "output_type": "stream",
     "text": [
      "(10886, 17)\n"
     ]
    },
    {
     "data": {
      "text/html": [
       "<div>\n",
       "<style scoped>\n",
       "    .dataframe tbody tr th:only-of-type {\n",
       "        vertical-align: middle;\n",
       "    }\n",
       "\n",
       "    .dataframe tbody tr th {\n",
       "        vertical-align: top;\n",
       "    }\n",
       "\n",
       "    .dataframe thead th {\n",
       "        text-align: right;\n",
       "    }\n",
       "</style>\n",
       "<table border=\"1\" class=\"dataframe\">\n",
       "  <thead>\n",
       "    <tr style=\"text-align: right;\">\n",
       "      <th></th>\n",
       "      <th>count</th>\n",
       "      <th>mean</th>\n",
       "      <th>std</th>\n",
       "      <th>min</th>\n",
       "      <th>25%</th>\n",
       "      <th>50%</th>\n",
       "      <th>75%</th>\n",
       "      <th>max</th>\n",
       "    </tr>\n",
       "  </thead>\n",
       "  <tbody>\n",
       "    <tr>\n",
       "      <th>season</th>\n",
       "      <td>10886.0</td>\n",
       "      <td>2.506614</td>\n",
       "      <td>1.116174</td>\n",
       "      <td>1.00</td>\n",
       "      <td>2.0000</td>\n",
       "      <td>3.000</td>\n",
       "      <td>4.0000</td>\n",
       "      <td>4.0000</td>\n",
       "    </tr>\n",
       "    <tr>\n",
       "      <th>holiday</th>\n",
       "      <td>10886.0</td>\n",
       "      <td>0.028569</td>\n",
       "      <td>0.166599</td>\n",
       "      <td>0.00</td>\n",
       "      <td>0.0000</td>\n",
       "      <td>0.000</td>\n",
       "      <td>0.0000</td>\n",
       "      <td>1.0000</td>\n",
       "    </tr>\n",
       "    <tr>\n",
       "      <th>workingday</th>\n",
       "      <td>10886.0</td>\n",
       "      <td>0.680875</td>\n",
       "      <td>0.466159</td>\n",
       "      <td>0.00</td>\n",
       "      <td>0.0000</td>\n",
       "      <td>1.000</td>\n",
       "      <td>1.0000</td>\n",
       "      <td>1.0000</td>\n",
       "    </tr>\n",
       "    <tr>\n",
       "      <th>weather</th>\n",
       "      <td>10886.0</td>\n",
       "      <td>1.418427</td>\n",
       "      <td>0.633839</td>\n",
       "      <td>1.00</td>\n",
       "      <td>1.0000</td>\n",
       "      <td>1.000</td>\n",
       "      <td>2.0000</td>\n",
       "      <td>4.0000</td>\n",
       "    </tr>\n",
       "    <tr>\n",
       "      <th>temp</th>\n",
       "      <td>10886.0</td>\n",
       "      <td>20.230860</td>\n",
       "      <td>7.791590</td>\n",
       "      <td>0.82</td>\n",
       "      <td>13.9400</td>\n",
       "      <td>20.500</td>\n",
       "      <td>26.2400</td>\n",
       "      <td>41.0000</td>\n",
       "    </tr>\n",
       "    <tr>\n",
       "      <th>atemp</th>\n",
       "      <td>10886.0</td>\n",
       "      <td>23.655084</td>\n",
       "      <td>8.474601</td>\n",
       "      <td>0.76</td>\n",
       "      <td>16.6650</td>\n",
       "      <td>24.240</td>\n",
       "      <td>31.0600</td>\n",
       "      <td>45.4550</td>\n",
       "    </tr>\n",
       "    <tr>\n",
       "      <th>humidity</th>\n",
       "      <td>10886.0</td>\n",
       "      <td>61.886460</td>\n",
       "      <td>19.245033</td>\n",
       "      <td>0.00</td>\n",
       "      <td>47.0000</td>\n",
       "      <td>62.000</td>\n",
       "      <td>77.0000</td>\n",
       "      <td>100.0000</td>\n",
       "    </tr>\n",
       "    <tr>\n",
       "      <th>windspeed</th>\n",
       "      <td>10886.0</td>\n",
       "      <td>12.799395</td>\n",
       "      <td>8.164537</td>\n",
       "      <td>0.00</td>\n",
       "      <td>7.0015</td>\n",
       "      <td>12.998</td>\n",
       "      <td>16.9979</td>\n",
       "      <td>56.9969</td>\n",
       "    </tr>\n",
       "    <tr>\n",
       "      <th>casual</th>\n",
       "      <td>10886.0</td>\n",
       "      <td>36.021955</td>\n",
       "      <td>49.960477</td>\n",
       "      <td>0.00</td>\n",
       "      <td>4.0000</td>\n",
       "      <td>17.000</td>\n",
       "      <td>49.0000</td>\n",
       "      <td>367.0000</td>\n",
       "    </tr>\n",
       "    <tr>\n",
       "      <th>registered</th>\n",
       "      <td>10886.0</td>\n",
       "      <td>155.552177</td>\n",
       "      <td>151.039033</td>\n",
       "      <td>0.00</td>\n",
       "      <td>36.0000</td>\n",
       "      <td>118.000</td>\n",
       "      <td>222.0000</td>\n",
       "      <td>886.0000</td>\n",
       "    </tr>\n",
       "    <tr>\n",
       "      <th>count</th>\n",
       "      <td>10886.0</td>\n",
       "      <td>191.574132</td>\n",
       "      <td>181.144454</td>\n",
       "      <td>1.00</td>\n",
       "      <td>42.0000</td>\n",
       "      <td>145.000</td>\n",
       "      <td>284.0000</td>\n",
       "      <td>977.0000</td>\n",
       "    </tr>\n",
       "    <tr>\n",
       "      <th>year</th>\n",
       "      <td>10886.0</td>\n",
       "      <td>2011.501929</td>\n",
       "      <td>0.500019</td>\n",
       "      <td>2011.00</td>\n",
       "      <td>2011.0000</td>\n",
       "      <td>2012.000</td>\n",
       "      <td>2012.0000</td>\n",
       "      <td>2012.0000</td>\n",
       "    </tr>\n",
       "    <tr>\n",
       "      <th>month</th>\n",
       "      <td>10886.0</td>\n",
       "      <td>6.521495</td>\n",
       "      <td>3.444373</td>\n",
       "      <td>1.00</td>\n",
       "      <td>4.0000</td>\n",
       "      <td>7.000</td>\n",
       "      <td>10.0000</td>\n",
       "      <td>12.0000</td>\n",
       "    </tr>\n",
       "    <tr>\n",
       "      <th>day</th>\n",
       "      <td>10886.0</td>\n",
       "      <td>9.992559</td>\n",
       "      <td>5.476608</td>\n",
       "      <td>1.00</td>\n",
       "      <td>5.0000</td>\n",
       "      <td>10.000</td>\n",
       "      <td>15.0000</td>\n",
       "      <td>19.0000</td>\n",
       "    </tr>\n",
       "    <tr>\n",
       "      <th>hour</th>\n",
       "      <td>10886.0</td>\n",
       "      <td>11.541613</td>\n",
       "      <td>6.915838</td>\n",
       "      <td>0.00</td>\n",
       "      <td>6.0000</td>\n",
       "      <td>12.000</td>\n",
       "      <td>18.0000</td>\n",
       "      <td>23.0000</td>\n",
       "    </tr>\n",
       "    <tr>\n",
       "      <th>weekday</th>\n",
       "      <td>10886.0</td>\n",
       "      <td>3.013963</td>\n",
       "      <td>2.004585</td>\n",
       "      <td>0.00</td>\n",
       "      <td>1.0000</td>\n",
       "      <td>3.000</td>\n",
       "      <td>5.0000</td>\n",
       "      <td>6.0000</td>\n",
       "    </tr>\n",
       "  </tbody>\n",
       "</table>\n",
       "</div>"
      ],
      "text/plain": [
       "              count         mean         std      min        25%       50%  \\\n",
       "season      10886.0     2.506614    1.116174     1.00     2.0000     3.000   \n",
       "holiday     10886.0     0.028569    0.166599     0.00     0.0000     0.000   \n",
       "workingday  10886.0     0.680875    0.466159     0.00     0.0000     1.000   \n",
       "weather     10886.0     1.418427    0.633839     1.00     1.0000     1.000   \n",
       "temp        10886.0    20.230860    7.791590     0.82    13.9400    20.500   \n",
       "atemp       10886.0    23.655084    8.474601     0.76    16.6650    24.240   \n",
       "humidity    10886.0    61.886460   19.245033     0.00    47.0000    62.000   \n",
       "windspeed   10886.0    12.799395    8.164537     0.00     7.0015    12.998   \n",
       "casual      10886.0    36.021955   49.960477     0.00     4.0000    17.000   \n",
       "registered  10886.0   155.552177  151.039033     0.00    36.0000   118.000   \n",
       "count       10886.0   191.574132  181.144454     1.00    42.0000   145.000   \n",
       "year        10886.0  2011.501929    0.500019  2011.00  2011.0000  2012.000   \n",
       "month       10886.0     6.521495    3.444373     1.00     4.0000     7.000   \n",
       "day         10886.0     9.992559    5.476608     1.00     5.0000    10.000   \n",
       "hour        10886.0    11.541613    6.915838     0.00     6.0000    12.000   \n",
       "weekday     10886.0     3.013963    2.004585     0.00     1.0000     3.000   \n",
       "\n",
       "                  75%        max  \n",
       "season         4.0000     4.0000  \n",
       "holiday        0.0000     1.0000  \n",
       "workingday     1.0000     1.0000  \n",
       "weather        2.0000     4.0000  \n",
       "temp          26.2400    41.0000  \n",
       "atemp         31.0600    45.4550  \n",
       "humidity      77.0000   100.0000  \n",
       "windspeed     16.9979    56.9969  \n",
       "casual        49.0000   367.0000  \n",
       "registered   222.0000   886.0000  \n",
       "count        284.0000   977.0000  \n",
       "year        2012.0000  2012.0000  \n",
       "month         10.0000    12.0000  \n",
       "day           15.0000    19.0000  \n",
       "hour          18.0000    23.0000  \n",
       "weekday        5.0000     6.0000  "
      ]
     },
     "execution_count": 5,
     "metadata": {},
     "output_type": "execute_result"
    }
   ],
   "source": [
    "print(df.shape)\n",
    "df.describe().T"
   ]
  },
  {
   "cell_type": "markdown",
   "metadata": {},
   "source": [
    "#### Категориальные признаки"
   ]
  },
  {
   "cell_type": "code",
   "execution_count": 6,
   "metadata": {},
   "outputs": [
    {
     "name": "stdout",
     "output_type": "stream",
     "text": [
      "\n",
      "holiday\n",
      "0    10575\n",
      "1      311\n",
      "Name: holiday, dtype: int64\n",
      "_____________________________________________\n",
      "\n",
      "season\n",
      "4    2734\n",
      "3    2733\n",
      "2    2733\n",
      "1    2686\n",
      "Name: season, dtype: int64\n",
      "_____________________________________________\n",
      "\n",
      "weather\n",
      "1    7192\n",
      "2    2834\n",
      "3     859\n",
      "4       1\n",
      "Name: weather, dtype: int64\n",
      "_____________________________________________\n",
      "\n",
      "workingday\n",
      "1    7412\n",
      "0    3474\n",
      "Name: workingday, dtype: int64\n",
      "_____________________________________________\n"
     ]
    }
   ],
   "source": [
    "for i in [\"holiday\", \"season\", \"weather\", \"workingday\"]:\n",
    "    print('')\n",
    "    print(i)\n",
    "    print(df[i].value_counts())\n",
    "    print('_____________________________________________')"
   ]
  },
  {
   "cell_type": "markdown",
   "metadata": {},
   "source": [
    "**Вывод:** <br>\n",
    "Чаще велосипеды брали в ясную погоду. Присутствует редкая категория \"4\" в признаке \"weather\". <br>"
   ]
  },
  {
   "cell_type": "markdown",
   "metadata": {},
   "source": [
    "#### Анализ линейных зависимостей в данных"
   ]
  },
  {
   "cell_type": "markdown",
   "metadata": {},
   "source": [
    "Определим, есть ли переменные с высокой корреляцией."
   ]
  },
  {
   "cell_type": "code",
   "execution_count": 7,
   "metadata": {},
   "outputs": [
    {
     "data": {
      "text/plain": [
       "<matplotlib.axes._subplots.AxesSubplot at 0x204b324db00>"
      ]
     },
     "execution_count": 7,
     "metadata": {},
     "output_type": "execute_result"
    },
    {
     "data": {
      "image/png": "[encoded data removed]",
      "text/plain": [
       "<Figure size 1512x1512 with 2 Axes>"
      ]
     },
     "metadata": {},
     "output_type": "display_data"
    }
   ],
   "source": [
    "f, ax = plt.subplots(figsize = (21, 21))\n",
    "sns.heatmap(df.corr(), ax = ax, annot=True)"
   ]
  },
  {
   "cell_type": "markdown",
   "metadata": {},
   "source": [
    "**Вывод:** <br>\n",
    "Наибольшую корреляцию имеют atemp и temp. Корреляция близка к 1, поэтому скорее всего придется оставить какую-то одну из переменных.\n",
    "\n",
    "В то же время, целевые переменные (count, registred и casual) в большей степени коррелированы именно с показтелями температуры"
   ]
  },
  {
   "cell_type": "markdown",
   "metadata": {},
   "source": [
    "#### Распределение некоторых признаков"
   ]
  },
  {
   "cell_type": "code",
   "execution_count": 8,
   "metadata": {},
   "outputs": [
    {
     "name": "stderr",
     "output_type": "stream",
     "text": [
      "C:\\ProgramData\\Anaconda3\\lib\\site-packages\\matplotlib\\axes\\_axes.py:6462: UserWarning: The 'normed' kwarg is deprecated, and has been replaced by the 'density' kwarg.\n",
      "  warnings.warn(\"The 'normed' kwarg is deprecated, and has been \"\n"
     ]
    },
    {
     "data": {
      "text/plain": [
       "<matplotlib.axes._subplots.AxesSubplot at 0x204b445ce48>"
      ]
     },
     "execution_count": 8,
     "metadata": {},
     "output_type": "execute_result"
    },
    {
     "data": {
      "image/png": "[encoded data removed]",
      "text/plain": [
       "<Figure size 432x288 with 1 Axes>"
      ]
     },
     "metadata": {},
     "output_type": "display_data"
    }
   ],
   "source": [
    "sns.distplot(df['humidity'])"
   ]
  },
  {
   "cell_type": "code",
   "execution_count": 9,
   "metadata": {},
   "outputs": [
    {
     "name": "stderr",
     "output_type": "stream",
     "text": [
      "C:\\ProgramData\\Anaconda3\\lib\\site-packages\\matplotlib\\axes\\_axes.py:6462: UserWarning: The 'normed' kwarg is deprecated, and has been replaced by the 'density' kwarg.\n",
      "  warnings.warn(\"The 'normed' kwarg is deprecated, and has been \"\n"
     ]
    },
    {
     "data": {
      "text/plain": [
       "<matplotlib.axes._subplots.AxesSubplot at 0x204b6906cf8>"
      ]
     },
     "execution_count": 9,
     "metadata": {},
     "output_type": "execute_result"
    },
    {
     "data": {
      "image/png": "[encoded data removed]",
      "text/plain": [
       "<Figure size 432x288 with 1 Axes>"
      ]
     },
     "metadata": {},
     "output_type": "display_data"
    }
   ],
   "source": [
    "sns.distplot(df['temp'])"
   ]
  },
  {
   "cell_type": "code",
   "execution_count": 10,
   "metadata": {},
   "outputs": [
    {
     "name": "stderr",
     "output_type": "stream",
     "text": [
      "C:\\ProgramData\\Anaconda3\\lib\\site-packages\\matplotlib\\axes\\_axes.py:6462: UserWarning: The 'normed' kwarg is deprecated, and has been replaced by the 'density' kwarg.\n",
      "  warnings.warn(\"The 'normed' kwarg is deprecated, and has been \"\n"
     ]
    },
    {
     "data": {
      "text/plain": [
       "<matplotlib.axes._subplots.AxesSubplot at 0x204b69e3208>"
      ]
     },
     "execution_count": 10,
     "metadata": {},
     "output_type": "execute_result"
    },
    {
     "data": {
      "image/png": "[encoded data removed]",
      "text/plain": [
       "<Figure size 432x288 with 1 Axes>"
      ]
     },
     "metadata": {},
     "output_type": "display_data"
    }
   ],
   "source": [
    "sns.distplot(df['windspeed'])"
   ]
  },
  {
   "cell_type": "markdown",
   "metadata": {},
   "source": [
    "#### Парные распределения с целевыми признаками"
   ]
  },
  {
   "cell_type": "markdown",
   "metadata": {},
   "source": [
    "*Выясним, как зависит аренда от даты и времени.*"
   ]
  },
  {
   "cell_type": "code",
   "execution_count": 11,
   "metadata": {},
   "outputs": [
    {
     "data": {
      "text/plain": [
       "<matplotlib.axes._subplots.AxesSubplot at 0x204b6ac7d30>"
      ]
     },
     "execution_count": 11,
     "metadata": {},
     "output_type": "execute_result"
    },
    {
     "data": {
      "image/png": "[encoded data removed]",
      "text/plain": [
       "<Figure size 432x288 with 1 Axes>"
      ]
     },
     "metadata": {},
     "output_type": "display_data"
    }
   ],
   "source": [
    "sns.barplot('year', 'count', data=df)"
   ]
  },
  {
   "cell_type": "markdown",
   "metadata": {},
   "source": [
    "**Вывод:** <br>\n",
    "Количество аренды возврасло в течение заданного периода (2011 - 2012 года). Стоит это учитывать при прогнозировании на дни соответствующих годов."
   ]
  },
  {
   "cell_type": "code",
   "execution_count": 12,
   "metadata": {},
   "outputs": [
    {
     "data": {
      "text/plain": [
       "<matplotlib.axes._subplots.AxesSubplot at 0x204b6b15fd0>"
      ]
     },
     "execution_count": 12,
     "metadata": {},
     "output_type": "execute_result"
    },
    {
     "data": {
      "image/png": "[encoded data removed]",
      "text/plain": [
       "<Figure size 432x288 with 1 Axes>"
      ]
     },
     "metadata": {},
     "output_type": "display_data"
    }
   ],
   "source": [
    "sns.barplot('month', 'count', data=df, hue='year')"
   ]
  },
  {
   "cell_type": "markdown",
   "metadata": {},
   "source": [
    "**Вывод:** <br>\n",
    "В зимний период наблюдался спад востребованности велосипедов, а в летние - напротив, рост. То есть прослеживается очевидная сезонность."
   ]
  },
  {
   "cell_type": "code",
   "execution_count": 13,
   "metadata": {},
   "outputs": [
    {
     "data": {
      "text/plain": [
       "<matplotlib.axes._subplots.AxesSubplot at 0x204b698a7b8>"
      ]
     },
     "execution_count": 13,
     "metadata": {},
     "output_type": "execute_result"
    },
    {
     "data": {
      "image/png": "[encoded data removed]",
      "text/plain": [
       "<Figure size 432x288 with 1 Axes>"
      ]
     },
     "metadata": {},
     "output_type": "display_data"
    }
   ],
   "source": [
    "sns.barplot('day', 'count', data=df, hue='year')"
   ]
  },
  {
   "cell_type": "markdown",
   "metadata": {},
   "source": [
    "**Вывод:** <br>\n",
    "Можно сделать вывод, что ежедневная востребованность велосипедов в первой половине месяца не имела тенденции резко возрастать или уменьшаться. <br>\n",
    "То есть данные о дне не имеют высокого влияния на аренду."
   ]
  },
  {
   "cell_type": "code",
   "execution_count": 14,
   "metadata": {},
   "outputs": [
    {
     "name": "stderr",
     "output_type": "stream",
     "text": [
      "C:\\ProgramData\\Anaconda3\\lib\\site-packages\\seaborn\\axisgrid.py:703: UserWarning: Using the barplot function without specifying `order` is likely to produce an incorrect plot.\n",
      "  warnings.warn(warning)\n",
      "C:\\ProgramData\\Anaconda3\\lib\\site-packages\\seaborn\\axisgrid.py:708: UserWarning: Using the barplot function without specifying `hue_order` is likely to produce an incorrect plot.\n",
      "  warnings.warn(warning)\n"
     ]
    },
    {
     "data": {
      "text/plain": [
       "<seaborn.axisgrid.FacetGrid at 0x204b6c59080>"
      ]
     },
     "execution_count": 14,
     "metadata": {},
     "output_type": "execute_result"
    },
    {
     "data": {
      "image/png": "[encoded data removed]",
      "text/plain": [
       "<Figure size 432x216 with 2 Axes>"
      ]
     },
     "metadata": {},
     "output_type": "display_data"
    }
   ],
   "source": [
    "g = sns.FacetGrid(df, col='year')\n",
    "g.map(sns.barplot, 'hour', 'count', 'workingday')"
   ]
  },
  {
   "cell_type": "markdown",
   "metadata": {},
   "source": [
    "**Вывод:** <br>\n",
    "В отличие от дня на календаре время имеет вес в прогнозировании. После возрастания (и последующего падения) в утренние часы, к вечеру количество арендующих постепенно возрастало."
   ]
  },
  {
   "cell_type": "code",
   "execution_count": 15,
   "metadata": {},
   "outputs": [
    {
     "data": {
      "text/plain": [
       "<matplotlib.axes._subplots.AxesSubplot at 0x204b6e29278>"
      ]
     },
     "execution_count": 15,
     "metadata": {},
     "output_type": "execute_result"
    },
    {
     "data": {
      "image/png": "[encoded data removed]",
      "text/plain": [
       "<Figure size 432x288 with 1 Axes>"
      ]
     },
     "metadata": {},
     "output_type": "display_data"
    }
   ],
   "source": [
    "sns.barplot('weekday', 'count', data=df, hue='year')"
   ]
  },
  {
   "cell_type": "markdown",
   "metadata": {},
   "source": [
    "**Вывод:** <br>\n",
    "Наблюдался небольшой провал в воскресение."
   ]
  },
  {
   "cell_type": "markdown",
   "metadata": {},
   "source": [
    "Посмотрим на отличие в распределение зарегистрированных и незарегистрированных пользователей"
   ]
  },
  {
   "cell_type": "code",
   "execution_count": 16,
   "metadata": {},
   "outputs": [
    {
     "data": {
      "text/plain": [
       "<seaborn.axisgrid.FacetGrid at 0x204b70649e8>"
      ]
     },
     "execution_count": 16,
     "metadata": {},
     "output_type": "execute_result"
    },
    {
     "data": {
      "image/png": "[encoded data removed]",
      "text/plain": [
       "<Figure size 349.375x288 with 1 Axes>"
      ]
     },
     "metadata": {},
     "output_type": "display_data"
    },
    {
     "data": {
      "image/png": "[encoded data removed]",
      "text/plain": [
       "<Figure size 349.375x288 with 1 Axes>"
      ]
     },
     "metadata": {},
     "output_type": "display_data"
    }
   ],
   "source": [
    "sns.factorplot('weekday', 'casual', data=df, hue='year')\n",
    "sns.factorplot('weekday', 'registered', data=df, hue='year')"
   ]
  },
  {
   "cell_type": "markdown",
   "metadata": {},
   "source": [
    "**Вывод: **<br>\n",
    "Незарегистрированные в системе пользователи чаще брали велосипеды в выходные дни, при этом пик аренды достигался в субботу. <br>\n",
    "Зарегистированные же предпочитали брать велосипеды в буднии дни, практически игнорируя(в сравнении) при этом выходные дни. Самый низкий показатель датировался воскресением, после чего в понедельник происходил резкий взлёт аренды. <br>"
   ]
  },
  {
   "cell_type": "markdown",
   "metadata": {},
   "source": [
    "# Getting hands dirty"
   ]
  },
  {
   "cell_type": "code",
   "execution_count": 17,
   "metadata": {},
   "outputs": [],
   "source": [
    "from sklearn.model_selection import train_test_split, cross_val_score\n",
    "from sklearn.model_selection import StratifiedKFold"
   ]
  },
  {
   "cell_type": "markdown",
   "metadata": {},
   "source": [
    "### Задание (0.25)"
   ]
  },
  {
   "cell_type": "markdown",
   "metadata": {},
   "source": [
    "Создайте переменную (именно отдельную переменную а не стобец в датафрейме) состоящий из строк вида \"год-месяц-час\"\n",
    "\n",
    "Эта переменная понадобится нам далее"
   ]
  },
  {
   "cell_type": "code",
   "execution_count": 18,
   "metadata": {},
   "outputs": [
    {
     "data": {
      "text/plain": [
       "0          2011-1-0\n",
       "1          2011-1-1\n",
       "2          2011-1-2\n",
       "3          2011-1-3\n",
       "4          2011-1-4\n",
       "5          2011-1-5\n",
       "6          2011-1-6\n",
       "7          2011-1-7\n",
       "8          2011-1-8\n",
       "9          2011-1-9\n",
       "10        2011-1-10\n",
       "11        2011-1-11\n",
       "12        2011-1-12\n",
       "13        2011-1-13\n",
       "14        2011-1-14\n",
       "15        2011-1-15\n",
       "16        2011-1-16\n",
       "17        2011-1-17\n",
       "18        2011-1-18\n",
       "19        2011-1-19\n",
       "20        2011-1-20\n",
       "21        2011-1-21\n",
       "22        2011-1-22\n",
       "23        2011-1-23\n",
       "24         2011-1-0\n",
       "25         2011-1-1\n",
       "26         2011-1-2\n",
       "27         2011-1-3\n",
       "28         2011-1-4\n",
       "29         2011-1-6\n",
       "            ...    \n",
       "10856    2012-12-18\n",
       "10857    2012-12-19\n",
       "10858    2012-12-20\n",
       "10859    2012-12-21\n",
       "10860    2012-12-22\n",
       "10861    2012-12-23\n",
       "10862     2012-12-0\n",
       "10863     2012-12-1\n",
       "10864     2012-12-2\n",
       "10865     2012-12-3\n",
       "10866     2012-12-4\n",
       "10867     2012-12-5\n",
       "10868     2012-12-6\n",
       "10869     2012-12-7\n",
       "10870     2012-12-8\n",
       "10871     2012-12-9\n",
       "10872    2012-12-10\n",
       "10873    2012-12-11\n",
       "10874    2012-12-12\n",
       "10875    2012-12-13\n",
       "10876    2012-12-14\n",
       "10877    2012-12-15\n",
       "10878    2012-12-16\n",
       "10879    2012-12-17\n",
       "10880    2012-12-18\n",
       "10881    2012-12-19\n",
       "10882    2012-12-20\n",
       "10883    2012-12-21\n",
       "10884    2012-12-22\n",
       "10885    2012-12-23\n",
       "Length: 10886, dtype: object"
      ]
     },
     "execution_count": 18,
     "metadata": {},
     "output_type": "execute_result"
    }
   ],
   "source": [
    "year_month_hour = df['year'].astype(str) +'-'+ df['month'].astype(str) +'-'+ df['hour'].astype(str)\n",
    "year_month_hour"
   ]
  },
  {
   "cell_type": "markdown",
   "metadata": {},
   "source": [
    "### Задание (0.25)"
   ]
  },
  {
   "cell_type": "markdown",
   "metadata": {},
   "source": [
    "Напишите функцию `prepare_features` которая бы\n",
    "* Удаляла ненужные признаки (сильно скоррелированные и просто бесполковые, типа `datetime`, `day`)\n",
    "* Оставляла только один из целевых признаков (casual, registred или count)\n",
    "* Вместо того, чтобы затачиваться на конкретный час (признак `hour`) создайте новую переменную (утро, день, вечер, ночь). Границы оцените интуитивно. Старую переменную удалите\n",
    "* Преобразовывала бинарные признаки в вектора с {0,1} а категориальные признаки в вектора с {0,1,...,C-1}\n",
    "* Опционально: создайте переменную, которая учитывает день недели и время"
   ]
  },
  {
   "cell_type": "code",
   "execution_count": 19,
   "metadata": {},
   "outputs": [],
   "source": [
    "def PartOfDay(a):\n",
    "    if a in range(0,6):\n",
    "        return 'Ночь'\n",
    "    if a in range(7,12):\n",
    "        return 'Утро'\n",
    "    if a in range(13,18):\n",
    "        return 'День'\n",
    "    if a in range(18,23):\n",
    "        return 'Вечер'\n",
    "    \n",
    "y_label = df['hour'].apply(PartOfDay)"
   ]
  },
  {
   "cell_type": "code",
   "execution_count": 20,
   "metadata": {},
   "outputs": [],
   "source": [
    "def prepare_features(df, target_feature=y_label):\n",
    "    df_output = df.copy()\n",
    "    \n",
    "    # Удаляем идентификатор AGREEMENT_RK\n",
    "   # if ('datetime','day','atemp','casual', 'registred') in df_output.columns:\n",
    "    df_output = df_output.drop(['datetime'], axis=1)\n",
    "    df_output = df_output.drop(['day'], axis=1)\n",
    "    df_output = df_output.drop(['atemp'], axis=1)\n",
    "    df_output = df_output.drop(['casual'], axis=1)\n",
    "    df_output = df_output.drop(['registered'], axis=1)   \n",
    "        \n",
    "    listOfCols=['holiday','workingday','season','weather']\n",
    "    for col in listOfCols:\n",
    "        df_output = pd.get_dummies(df_output, prefix=col, columns=[col])\n",
    "    \n",
    "    return df_output"
   ]
  },
  {
   "cell_type": "code",
   "execution_count": 21,
   "metadata": {},
   "outputs": [
    {
     "data": {
      "text/plain": [
       "0         5-0\n",
       "1         5-1\n",
       "2         5-2\n",
       "3         5-3\n",
       "4         5-4\n",
       "5         5-5\n",
       "6         5-6\n",
       "7         5-7\n",
       "8         5-8\n",
       "9         5-9\n",
       "10       5-10\n",
       "11       5-11\n",
       "12       5-12\n",
       "13       5-13\n",
       "14       5-14\n",
       "15       5-15\n",
       "16       5-16\n",
       "17       5-17\n",
       "18       5-18\n",
       "19       5-19\n",
       "20       5-20\n",
       "21       5-21\n",
       "22       5-22\n",
       "23       5-23\n",
       "24        6-0\n",
       "25        6-1\n",
       "26        6-2\n",
       "27        6-3\n",
       "28        6-4\n",
       "29        6-6\n",
       "         ... \n",
       "10856    1-18\n",
       "10857    1-19\n",
       "10858    1-20\n",
       "10859    1-21\n",
       "10860    1-22\n",
       "10861    1-23\n",
       "10862     2-0\n",
       "10863     2-1\n",
       "10864     2-2\n",
       "10865     2-3\n",
       "10866     2-4\n",
       "10867     2-5\n",
       "10868     2-6\n",
       "10869     2-7\n",
       "10870     2-8\n",
       "10871     2-9\n",
       "10872    2-10\n",
       "10873    2-11\n",
       "10874    2-12\n",
       "10875    2-13\n",
       "10876    2-14\n",
       "10877    2-15\n",
       "10878    2-16\n",
       "10879    2-17\n",
       "10880    2-18\n",
       "10881    2-19\n",
       "10882    2-20\n",
       "10883    2-21\n",
       "10884    2-22\n",
       "10885    2-23\n",
       "Length: 10886, dtype: object"
      ]
     },
     "execution_count": 21,
     "metadata": {},
     "output_type": "execute_result"
    }
   ],
   "source": [
    "week_hour = df['weekday'].astype(str) +'-'+ df['hour'].astype(str)\n",
    "week_hour"
   ]
  },
  {
   "cell_type": "code",
   "execution_count": 22,
   "metadata": {},
   "outputs": [
    {
     "name": "stdout",
     "output_type": "stream",
     "text": [
      "==========\n",
      "season\n",
      "{1, 2, 3, 4}\n",
      "\n",
      "\n",
      "==========\n",
      "holiday\n",
      "{0, 1}\n",
      "\n",
      "\n",
      "==========\n",
      "workingday\n",
      "{0, 1}\n",
      "\n",
      "\n",
      "==========\n",
      "weather\n",
      "{1, 2, 3, 4}\n",
      "\n",
      "\n",
      "==========\n",
      "temp\n",
      "{0.82, 1.64, 2.46, 3.28, 4.92, 5.74, 6.56, 7.38, 8.2, 9.84, 9.02, 10.66, 12.3, 13.12, 14.76, 15.58, 16.4, 17.22, 18.86, 18.04, 13.94, 4.1, 21.32, 22.96, 23.78, 24.6, 19.68, 22.14, 20.5, 27.06, 26.24, 25.42, 27.88, 28.7, 30.34, 31.16, 29.52, 33.62, 35.26, 36.9, 32.8, 34.44, 36.08, 37.72, 38.54, 39.36, 41.0, 11.48, 31.98}\n",
      "\n",
      "\n",
      "==========\n",
      "atemp\n",
      "{0.76, 1.515, 28.03, 3.03, 3.79, 5.305, 6.82, 7.575, 6.06, 8.335, 9.85, 10.605, 11.365, 12.88, 13.635, 14.395, 9.09, 16.665, 17.425, 12.12, 19.695, 20.455, 21.21, 22.725, 21.97, 4.545, 18.18, 25.0, 26.515, 27.275, 29.545, 23.485, 25.76, 31.06, 30.305, 31.82, 32.575, 33.335, 28.79, 34.85, 35.605, 37.12, 40.15, 41.665, 40.91, 39.395, 34.09, 42.425, 43.94, 43.18, 44.695, 45.455, 36.365, 37.88, 38.635, 15.91, 15.15, 18.94, 2.275, 24.24}\n",
      "\n",
      "\n",
      "==========\n",
      "humidity\n",
      "{0, 8, 10, 12, 13, 14, 15, 16, 17, 18, 19, 20, 21, 22, 23, 24, 25, 26, 27, 28, 29, 30, 31, 32, 33, 34, 35, 36, 37, 38, 39, 40, 41, 42, 43, 44, 45, 46, 47, 48, 49, 50, 51, 52, 53, 54, 55, 56, 57, 58, 59, 60, 61, 62, 63, 64, 65, 66, 67, 68, 69, 70, 71, 72, 73, 74, 75, 76, 77, 78, 79, 80, 81, 82, 83, 84, 85, 86, 87, 88, 89, 90, 91, 92, 93, 94, 96, 97, 100}\n",
      "\n",
      "\n",
      "==========\n",
      "windspeed\n",
      "{0.0, 6.0032, 7.0015, 8.9981, 11.0014, 12.998, 15.0013, 16.9979, 19.0012, 19.9995, 22.0028, 23.9994, 26.0027, 27.9993, 30.0026, 31.0009, 32.9975, 35.0008, 36.9974, 39.0007, 40.9973, 43.9989, 43.0006, 46.0022, 47.9988, 50.0021, 51.9987, 56.9969}\n",
      "\n",
      "\n",
      "==========\n",
      "casual\n",
      "{0, 1, 2, 3, 4, 5, 6, 7, 8, 9, 10, 11, 12, 13, 14, 15, 16, 17, 18, 19, 20, 21, 22, 23, 24, 25, 26, 27, 28, 29, 30, 31, 32, 33, 34, 35, 36, 37, 38, 39, 40, 41, 42, 43, 44, 45, 46, 47, 48, 49, 50, 51, 52, 53, 54, 55, 56, 57, 58, 59, 60, 61, 62, 63, 64, 65, 66, 67, 68, 69, 70, 71, 72, 73, 74, 75, 76, 77, 78, 79, 80, 81, 82, 83, 84, 85, 86, 87, 88, 89, 90, 91, 92, 93, 94, 95, 96, 97, 98, 99, 100, 101, 102, 103, 104, 105, 106, 107, 108, 109, 110, 111, 112, 113, 114, 115, 116, 117, 118, 119, 120, 121, 122, 123, 124, 125, 126, 127, 128, 129, 130, 131, 132, 133, 134, 135, 136, 137, 138, 139, 140, 141, 142, 143, 144, 145, 146, 147, 148, 149, 150, 151, 152, 153, 154, 155, 156, 157, 158, 159, 160, 161, 162, 163, 164, 165, 166, 167, 168, 169, 170, 171, 172, 173, 174, 175, 176, 177, 178, 179, 180, 181, 182, 183, 184, 185, 186, 187, 188, 189, 190, 191, 192, 193, 194, 195, 196, 197, 198, 199, 200, 201, 202, 203, 204, 205, 206, 207, 208, 209, 210, 212, 213, 214, 215, 216, 217, 218, 219, 220, 221, 222, 223, 224, 225, 226, 227, 228, 229, 230, 232, 233, 234, 235, 236, 237, 238, 239, 240, 241, 242, 243, 244, 245, 246, 247, 248, 249, 250, 251, 253, 254, 255, 256, 257, 258, 259, 260, 262, 263, 264, 265, 266, 267, 268, 269, 272, 274, 275, 276, 279, 280, 282, 283, 284, 286, 287, 288, 289, 291, 292, 293, 294, 295, 297, 298, 299, 304, 308, 310, 311, 312, 317, 320, 321, 325, 326, 327, 331, 332, 350, 352, 354, 355, 356, 357, 361, 362, 367}\n",
      "\n",
      "\n",
      "==========\n",
      "registered\n",
      "{0, 1, 2, 3, 4, 5, 6, 7, 8, 9, 10, 11, 12, 13, 14, 15, 16, 17, 18, 19, 20, 21, 22, 23, 24, 25, 26, 27, 28, 29, 30, 31, 32, 33, 34, 35, 36, 37, 38, 39, 40, 41, 42, 43, 44, 45, 46, 47, 48, 49, 50, 51, 52, 53, 54, 55, 56, 57, 58, 59, 60, 61, 62, 63, 64, 65, 66, 67, 68, 69, 70, 71, 72, 73, 74, 75, 76, 77, 78, 79, 80, 81, 82, 83, 84, 85, 86, 87, 88, 89, 90, 91, 92, 93, 94, 95, 96, 97, 98, 99, 100, 101, 102, 103, 104, 105, 106, 107, 108, 109, 110, 111, 112, 113, 114, 115, 116, 117, 118, 119, 120, 121, 122, 123, 124, 125, 126, 127, 128, 129, 130, 131, 132, 133, 134, 135, 136, 137, 138, 139, 140, 141, 142, 143, 144, 145, 146, 147, 148, 149, 150, 151, 152, 153, 154, 155, 156, 157, 158, 159, 160, 161, 162, 163, 164, 165, 166, 167, 168, 169, 170, 171, 172, 173, 174, 175, 176, 177, 178, 179, 180, 181, 182, 183, 184, 185, 186, 187, 188, 189, 190, 191, 192, 193, 194, 195, 196, 197, 198, 199, 200, 201, 202, 203, 204, 205, 206, 207, 208, 209, 210, 211, 212, 213, 214, 215, 216, 217, 218, 219, 220, 221, 222, 223, 224, 225, 226, 227, 228, 229, 230, 231, 232, 233, 234, 235, 236, 237, 238, 239, 240, 241, 242, 243, 244, 245, 246, 247, 248, 249, 250, 251, 252, 253, 254, 255, 256, 257, 258, 259, 260, 261, 262, 263, 264, 265, 266, 267, 268, 269, 270, 271, 272, 273, 274, 275, 276, 277, 278, 279, 280, 281, 282, 283, 284, 285, 286, 287, 288, 289, 290, 291, 292, 293, 294, 295, 296, 297, 298, 299, 300, 301, 302, 303, 304, 305, 306, 307, 308, 309, 310, 311, 312, 313, 314, 315, 316, 317, 318, 319, 320, 321, 322, 323, 324, 325, 326, 327, 328, 329, 330, 331, 332, 333, 334, 335, 336, 337, 338, 339, 340, 341, 342, 343, 344, 345, 346, 347, 348, 349, 350, 351, 352, 353, 354, 355, 356, 357, 358, 359, 360, 361, 362, 363, 364, 365, 366, 367, 368, 369, 370, 371, 372, 373, 374, 375, 376, 377, 378, 379, 380, 381, 382, 383, 384, 385, 386, 387, 388, 389, 390, 391, 392, 393, 394, 395, 396, 397, 398, 399, 400, 401, 402, 403, 404, 405, 406, 407, 408, 409, 410, 411, 412, 413, 414, 415, 416, 417, 418, 419, 420, 421, 422, 423, 424, 425, 426, 427, 428, 429, 430, 431, 432, 433, 434, 435, 436, 437, 438, 439, 440, 441, 442, 443, 444, 445, 446, 447, 448, 449, 450, 451, 452, 453, 454, 455, 456, 458, 459, 460, 461, 462, 463, 464, 465, 466, 467, 468, 469, 470, 471, 472, 473, 474, 475, 477, 478, 479, 480, 481, 483, 484, 485, 486, 487, 488, 489, 490, 491, 492, 493, 494, 495, 496, 497, 498, 499, 500, 501, 502, 503, 504, 505, 506, 507, 508, 509, 510, 511, 512, 513, 514, 515, 516, 517, 518, 521, 522, 523, 525, 527, 529, 530, 531, 532, 533, 534, 536, 537, 538, 539, 540, 541, 542, 543, 544, 545, 546, 547, 548, 549, 551, 552, 553, 554, 555, 556, 557, 558, 559, 560, 561, 562, 563, 564, 565, 566, 567, 568, 570, 571, 572, 573, 575, 576, 577, 578, 579, 580, 581, 582, 583, 584, 586, 589, 591, 593, 594, 595, 596, 597, 598, 601, 602, 603, 604, 605, 608, 609, 610, 613, 614, 615, 616, 617, 618, 619, 620, 621, 622, 623, 624, 625, 626, 628, 629, 631, 633, 634, 636, 637, 638, 639, 640, 641, 642, 643, 644, 645, 646, 647, 648, 649, 650, 651, 652, 653, 655, 656, 658, 659, 660, 661, 662, 663, 664, 665, 666, 667, 668, 669, 670, 672, 673, 675, 677, 678, 679, 680, 681, 682, 684, 688, 689, 690, 692, 693, 694, 696, 697, 698, 699, 700, 702, 703, 704, 706, 708, 709, 711, 712, 713, 715, 716, 718, 719, 720, 723, 725, 726, 727, 733, 734, 735, 737, 739, 740, 741, 742, 743, 744, 745, 746, 749, 750, 751, 756, 757, 758, 761, 764, 766, 767, 768, 769, 770, 773, 775, 778, 779, 780, 781, 782, 786, 787, 788, 789, 790, 791, 794, 800, 802, 803, 806, 807, 811, 812, 833, 839, 857, 886}\n",
      "\n",
      "\n",
      "==========\n",
      "count\n",
      "{1, 2, 3, 4, 5, 6, 7, 8, 9, 10, 11, 12, 13, 14, 15, 16, 17, 18, 19, 20, 21, 22, 23, 24, 25, 26, 27, 28, 29, 30, 31, 32, 33, 34, 35, 36, 37, 38, 39, 40, 41, 42, 43, 44, 45, 46, 47, 48, 49, 50, 51, 52, 53, 54, 55, 56, 57, 58, 59, 60, 61, 62, 63, 64, 65, 66, 67, 68, 69, 70, 71, 72, 73, 74, 75, 76, 77, 78, 79, 80, 81, 82, 83, 84, 85, 86, 87, 88, 89, 90, 91, 92, 93, 94, 95, 96, 97, 98, 99, 100, 101, 102, 103, 104, 105, 106, 107, 108, 109, 110, 111, 112, 113, 114, 115, 116, 117, 118, 119, 120, 121, 122, 123, 124, 125, 126, 127, 128, 129, 130, 131, 132, 133, 134, 135, 136, 137, 138, 139, 140, 141, 142, 143, 144, 145, 146, 147, 148, 149, 150, 151, 152, 153, 154, 155, 156, 157, 158, 159, 160, 161, 162, 163, 164, 165, 166, 167, 168, 169, 170, 171, 172, 173, 174, 175, 176, 177, 178, 179, 180, 181, 182, 183, 184, 185, 186, 187, 188, 189, 190, 191, 192, 193, 194, 195, 196, 197, 198, 199, 200, 201, 202, 203, 204, 205, 206, 207, 208, 209, 210, 211, 212, 213, 214, 215, 216, 217, 218, 219, 220, 221, 222, 223, 224, 225, 226, 227, 228, 229, 230, 231, 232, 233, 234, 235, 236, 237, 238, 239, 240, 241, 242, 243, 244, 245, 246, 247, 248, 249, 250, 251, 252, 253, 254, 255, 256, 257, 258, 259, 260, 261, 262, 263, 264, 265, 266, 267, 268, 269, 270, 271, 272, 273, 274, 275, 276, 277, 278, 279, 280, 281, 282, 283, 284, 285, 286, 287, 288, 289, 290, 291, 292, 293, 294, 295, 296, 297, 298, 299, 300, 301, 302, 303, 304, 305, 306, 307, 308, 309, 310, 311, 312, 313, 314, 315, 316, 317, 318, 319, 320, 321, 322, 323, 324, 325, 326, 327, 328, 329, 330, 331, 332, 333, 334, 335, 336, 337, 338, 339, 340, 341, 342, 343, 344, 345, 346, 347, 348, 349, 350, 351, 352, 353, 354, 355, 356, 357, 358, 359, 360, 361, 362, 363, 364, 365, 366, 367, 368, 369, 370, 371, 372, 373, 374, 375, 376, 377, 378, 379, 380, 381, 382, 383, 384, 385, 386, 387, 388, 389, 390, 391, 392, 393, 394, 395, 396, 397, 398, 399, 400, 401, 402, 403, 404, 405, 406, 407, 408, 409, 410, 411, 412, 413, 414, 415, 416, 417, 418, 419, 420, 421, 422, 423, 424, 425, 426, 427, 428, 429, 430, 431, 432, 433, 434, 435, 436, 437, 438, 439, 440, 441, 442, 443, 444, 445, 446, 447, 448, 449, 450, 451, 452, 453, 454, 455, 456, 457, 458, 459, 460, 461, 462, 463, 464, 465, 466, 467, 468, 469, 470, 471, 472, 473, 474, 475, 476, 477, 478, 479, 480, 481, 482, 483, 484, 485, 486, 487, 488, 489, 490, 491, 492, 493, 494, 495, 496, 497, 498, 499, 500, 501, 502, 503, 504, 505, 506, 507, 508, 509, 511, 512, 513, 514, 515, 516, 517, 518, 519, 520, 521, 522, 523, 524, 525, 526, 527, 528, 529, 530, 531, 532, 533, 534, 536, 537, 538, 539, 540, 541, 542, 543, 544, 545, 546, 547, 549, 550, 551, 552, 553, 554, 555, 556, 557, 558, 559, 560, 561, 562, 563, 564, 565, 566, 567, 568, 569, 570, 571, 572, 573, 575, 576, 577, 578, 579, 580, 581, 582, 583, 584, 585, 586, 587, 588, 589, 590, 591, 592, 593, 594, 595, 596, 597, 598, 599, 600, 601, 602, 603, 604, 605, 606, 607, 608, 609, 610, 611, 612, 613, 614, 615, 616, 617, 618, 619, 620, 622, 623, 624, 625, 626, 627, 628, 629, 630, 631, 632, 633, 634, 635, 636, 637, 638, 639, 640, 641, 642, 643, 644, 645, 646, 647, 648, 649, 650, 651, 652, 653, 654, 655, 656, 657, 658, 659, 660, 661, 662, 663, 665, 666, 667, 668, 669, 670, 671, 672, 673, 674, 676, 677, 678, 679, 680, 681, 682, 683, 684, 685, 686, 687, 688, 689, 690, 691, 692, 693, 694, 696, 698, 700, 701, 702, 704, 705, 706, 708, 710, 711, 712, 713, 715, 717, 719, 721, 722, 723, 724, 725, 729, 730, 731, 732, 733, 734, 737, 738, 739, 741, 743, 744, 745, 746, 747, 748, 749, 750, 755, 757, 758, 759, 761, 766, 767, 769, 770, 771, 772, 774, 775, 776, 777, 779, 781, 782, 783, 784, 785, 788, 790, 791, 792, 793, 794, 795, 797, 798, 800, 801, 806, 808, 809, 810, 811, 812, 813, 814, 817, 818, 819, 822, 823, 825, 827, 830, 831, 832, 834, 835, 837, 838, 839, 842, 843, 844, 846, 848, 849, 850, 851, 852, 854, 856, 857, 858, 862, 863, 865, 867, 868, 869, 871, 872, 873, 877, 884, 886, 887, 888, 890, 891, 892, 894, 897, 900, 901, 917, 925, 943, 948, 968, 970, 977}\n",
      "\n",
      "\n",
      "==========\n",
      "year\n",
      "{2011, 2012}\n",
      "\n",
      "\n",
      "==========\n",
      "month\n",
      "{1, 2, 3, 4, 5, 6, 7, 8, 9, 10, 11, 12}\n",
      "\n",
      "\n",
      "==========\n",
      "day\n",
      "{1, 2, 3, 4, 5, 6, 7, 8, 9, 10, 11, 12, 13, 14, 15, 16, 17, 18, 19}\n",
      "\n",
      "\n",
      "==========\n",
      "hour\n",
      "{0, 1, 2, 3, 4, 5, 6, 7, 8, 9, 10, 11, 12, 13, 14, 15, 16, 17, 18, 19, 20, 21, 22, 23}\n",
      "\n",
      "\n",
      "==========\n",
      "weekday\n",
      "{0, 1, 2, 3, 4, 5, 6}\n",
      "\n",
      "\n"
     ]
    }
   ],
   "source": [
    "# Для себя:\n",
    "for i in df.columns: # перебираем все столбцы\n",
    "    if i != 'datetime': # если тип столбца - object\n",
    "        print('='*10)\n",
    "        print(i) # выводим название столбца\n",
    "        print(set(df[i])) # выводим все его значения (но делаем set - чтоб значения не повторялись)\n",
    "        print('\\n') # выводим пустую строку"
   ]
  },
  {
   "cell_type": "markdown",
   "metadata": {},
   "source": [
    "Сделаем не простое разбиение на обучение и контроль а такую, что в контрольной и обучающей выборке будет примерно одинаковое распределение по году-месяцу"
   ]
  },
  {
   "cell_type": "code",
   "execution_count": 23,
   "metadata": {},
   "outputs": [],
   "source": [
    "df_clean = df.pipe(prepare_features, y_label)"
   ]
  },
  {
   "cell_type": "code",
   "execution_count": 24,
   "metadata": {},
   "outputs": [
    {
     "data": {
      "text/plain": [
       "Index(['temp', 'humidity', 'windspeed', 'count', 'year', 'month', 'hour',\n",
       "       'weekday', 'holiday_0', 'holiday_1', 'workingday_0', 'workingday_1',\n",
       "       'season_1', 'season_2', 'season_3', 'season_4', 'weather_1',\n",
       "       'weather_2', 'weather_3', 'weather_4'],\n",
       "      dtype='object')"
      ]
     },
     "execution_count": 24,
     "metadata": {},
     "output_type": "execute_result"
    }
   ],
   "source": [
    "df_clean.columns"
   ]
  },
  {
   "cell_type": "code",
   "execution_count": 25,
   "metadata": {},
   "outputs": [
    {
     "data": {
      "text/html": [
       "<div>\n",
       "<style scoped>\n",
       "    .dataframe tbody tr th:only-of-type {\n",
       "        vertical-align: middle;\n",
       "    }\n",
       "\n",
       "    .dataframe tbody tr th {\n",
       "        vertical-align: top;\n",
       "    }\n",
       "\n",
       "    .dataframe thead th {\n",
       "        text-align: right;\n",
       "    }\n",
       "</style>\n",
       "<table border=\"1\" class=\"dataframe\">\n",
       "  <thead>\n",
       "    <tr style=\"text-align: right;\">\n",
       "      <th></th>\n",
       "      <th>temp</th>\n",
       "      <th>humidity</th>\n",
       "      <th>windspeed</th>\n",
       "      <th>count</th>\n",
       "      <th>year</th>\n",
       "      <th>month</th>\n",
       "      <th>hour</th>\n",
       "      <th>weekday</th>\n",
       "      <th>holiday_0</th>\n",
       "      <th>holiday_1</th>\n",
       "      <th>workingday_0</th>\n",
       "      <th>workingday_1</th>\n",
       "      <th>season_1</th>\n",
       "      <th>season_2</th>\n",
       "      <th>season_3</th>\n",
       "      <th>season_4</th>\n",
       "      <th>weather_1</th>\n",
       "      <th>weather_2</th>\n",
       "      <th>weather_3</th>\n",
       "      <th>weather_4</th>\n",
       "    </tr>\n",
       "  </thead>\n",
       "  <tbody>\n",
       "    <tr>\n",
       "      <th>0</th>\n",
       "      <td>9.84</td>\n",
       "      <td>81</td>\n",
       "      <td>0.0</td>\n",
       "      <td>16</td>\n",
       "      <td>2011</td>\n",
       "      <td>1</td>\n",
       "      <td>0</td>\n",
       "      <td>5</td>\n",
       "      <td>1</td>\n",
       "      <td>0</td>\n",
       "      <td>1</td>\n",
       "      <td>0</td>\n",
       "      <td>1</td>\n",
       "      <td>0</td>\n",
       "      <td>0</td>\n",
       "      <td>0</td>\n",
       "      <td>1</td>\n",
       "      <td>0</td>\n",
       "      <td>0</td>\n",
       "      <td>0</td>\n",
       "    </tr>\n",
       "    <tr>\n",
       "      <th>1</th>\n",
       "      <td>9.02</td>\n",
       "      <td>80</td>\n",
       "      <td>0.0</td>\n",
       "      <td>40</td>\n",
       "      <td>2011</td>\n",
       "      <td>1</td>\n",
       "      <td>1</td>\n",
       "      <td>5</td>\n",
       "      <td>1</td>\n",
       "      <td>0</td>\n",
       "      <td>1</td>\n",
       "      <td>0</td>\n",
       "      <td>1</td>\n",
       "      <td>0</td>\n",
       "      <td>0</td>\n",
       "      <td>0</td>\n",
       "      <td>1</td>\n",
       "      <td>0</td>\n",
       "      <td>0</td>\n",
       "      <td>0</td>\n",
       "    </tr>\n",
       "    <tr>\n",
       "      <th>2</th>\n",
       "      <td>9.02</td>\n",
       "      <td>80</td>\n",
       "      <td>0.0</td>\n",
       "      <td>32</td>\n",
       "      <td>2011</td>\n",
       "      <td>1</td>\n",
       "      <td>2</td>\n",
       "      <td>5</td>\n",
       "      <td>1</td>\n",
       "      <td>0</td>\n",
       "      <td>1</td>\n",
       "      <td>0</td>\n",
       "      <td>1</td>\n",
       "      <td>0</td>\n",
       "      <td>0</td>\n",
       "      <td>0</td>\n",
       "      <td>1</td>\n",
       "      <td>0</td>\n",
       "      <td>0</td>\n",
       "      <td>0</td>\n",
       "    </tr>\n",
       "    <tr>\n",
       "      <th>3</th>\n",
       "      <td>9.84</td>\n",
       "      <td>75</td>\n",
       "      <td>0.0</td>\n",
       "      <td>13</td>\n",
       "      <td>2011</td>\n",
       "      <td>1</td>\n",
       "      <td>3</td>\n",
       "      <td>5</td>\n",
       "      <td>1</td>\n",
       "      <td>0</td>\n",
       "      <td>1</td>\n",
       "      <td>0</td>\n",
       "      <td>1</td>\n",
       "      <td>0</td>\n",
       "      <td>0</td>\n",
       "      <td>0</td>\n",
       "      <td>1</td>\n",
       "      <td>0</td>\n",
       "      <td>0</td>\n",
       "      <td>0</td>\n",
       "    </tr>\n",
       "    <tr>\n",
       "      <th>4</th>\n",
       "      <td>9.84</td>\n",
       "      <td>75</td>\n",
       "      <td>0.0</td>\n",
       "      <td>1</td>\n",
       "      <td>2011</td>\n",
       "      <td>1</td>\n",
       "      <td>4</td>\n",
       "      <td>5</td>\n",
       "      <td>1</td>\n",
       "      <td>0</td>\n",
       "      <td>1</td>\n",
       "      <td>0</td>\n",
       "      <td>1</td>\n",
       "      <td>0</td>\n",
       "      <td>0</td>\n",
       "      <td>0</td>\n",
       "      <td>1</td>\n",
       "      <td>0</td>\n",
       "      <td>0</td>\n",
       "      <td>0</td>\n",
       "    </tr>\n",
       "  </tbody>\n",
       "</table>\n",
       "</div>"
      ],
      "text/plain": [
       "   temp  humidity  windspeed  count  year  month  hour  weekday  holiday_0  \\\n",
       "0  9.84        81        0.0     16  2011      1     0        5          1   \n",
       "1  9.02        80        0.0     40  2011      1     1        5          1   \n",
       "2  9.02        80        0.0     32  2011      1     2        5          1   \n",
       "3  9.84        75        0.0     13  2011      1     3        5          1   \n",
       "4  9.84        75        0.0      1  2011      1     4        5          1   \n",
       "\n",
       "   holiday_1  workingday_0  workingday_1  season_1  season_2  season_3  \\\n",
       "0          0             1             0         1         0         0   \n",
       "1          0             1             0         1         0         0   \n",
       "2          0             1             0         1         0         0   \n",
       "3          0             1             0         1         0         0   \n",
       "4          0             1             0         1         0         0   \n",
       "\n",
       "   season_4  weather_1  weather_2  weather_3  weather_4  \n",
       "0         0          1          0          0          0  \n",
       "1         0          1          0          0          0  \n",
       "2         0          1          0          0          0  \n",
       "3         0          1          0          0          0  \n",
       "4         0          1          0          0          0  "
      ]
     },
     "execution_count": 25,
     "metadata": {},
     "output_type": "execute_result"
    }
   ],
   "source": [
    "df_clean.head()"
   ]
  },
  {
   "cell_type": "markdown",
   "metadata": {},
   "source": [
    "## Baseline modelling"
   ]
  },
  {
   "cell_type": "markdown",
   "metadata": {
    "collapsed": true
   },
   "source": [
    "Для удобства будем использовать не LinearRegression а ElasticNet, так как в нем можно одновременно котроллировать оба типа регуляризации"
   ]
  },
  {
   "cell_type": "code",
   "execution_count": 26,
   "metadata": {},
   "outputs": [],
   "source": [
    "from sklearn.linear_model import ElasticNet"
   ]
  },
  {
   "cell_type": "code",
   "execution_count": 27,
   "metadata": {},
   "outputs": [],
   "source": [
    "# alpha - это общая сила регуляризации\n",
    "# l1_ration - доля, которая приходтися на Lasso регуляризацию. Соответственно остальное идет на Rigde\n",
    "regressor = ElasticNet(alpha=1.0, l1_ratio=0.5)"
   ]
  },
  {
   "cell_type": "markdown",
   "metadata": {},
   "source": [
    "### Задание (0.10)\n",
    "\n",
    "Составьте pipeline, который состоит из следующих этапов (в скобках узакано \"название\" этапа):\n",
    "\n",
    "* One-hot encoder (\"onehot\")\n",
    "* StandartScaler (\"scaler\")\n",
    "* ElasticNet (\"elastic\")"
   ]
  },
  {
   "cell_type": "code",
   "execution_count": 28,
   "metadata": {},
   "outputs": [],
   "source": [
    "from sklearn.preprocessing import StandardScaler, OneHotEncoder\n",
    "from sklearn.pipeline import Pipeline"
   ]
  },
  {
   "cell_type": "code",
   "execution_count": 29,
   "metadata": {},
   "outputs": [],
   "source": [
    "model = Pipeline([\n",
    "    ('encoding', OneHotEncoder(categorical_features=[range(7,18)],handle_unknown='ignore')),\n",
    "    ('scaler', StandardScaler(with_mean =False)),\n",
    "    ('elasticnet', regressor)\n",
    "])"
   ]
  },
  {
   "cell_type": "code",
   "execution_count": 30,
   "metadata": {},
   "outputs": [
    {
     "data": {
      "text/plain": [
       "Pipeline(memory=None,\n",
       "     steps=[('encoding', OneHotEncoder(categorical_features=[range(7, 18)],\n",
       "       dtype=<class 'numpy.float64'>, handle_unknown='ignore',\n",
       "       n_values='auto', sparse=True)), ('scaler', StandardScaler(copy=True, with_mean=False, with_std=True)), ('elasticnet', ElasticNet(alpha=1.0, copy_X=True, fit_intercept=True, l1_ratio=0.5,\n",
       "      max_iter=1000, normalize=False, positive=False, precompute=False,\n",
       "      random_state=None, selection='cyclic', tol=0.0001, warm_start=False))])"
      ]
     },
     "execution_count": 30,
     "metadata": {},
     "output_type": "execute_result"
    }
   ],
   "source": [
    "X = df_clean[df_clean.columns[df_clean.columns != 'count']].values\n",
    "y = df_clean.iloc[:, 3].values\n",
    "model.fit(X, y)"
   ]
  },
  {
   "cell_type": "code",
   "execution_count": 31,
   "metadata": {},
   "outputs": [
    {
     "data": {
      "text/plain": [
       "array([-28.12224488, -24.53555081, -18.84605236, ..., 282.15796197,\n",
       "       281.75126018, 278.65891012])"
      ]
     },
     "execution_count": 31,
     "metadata": {},
     "output_type": "execute_result"
    }
   ],
   "source": [
    "y_hat = model.predict(X)\n",
    "y_hat"
   ]
  },
  {
   "cell_type": "markdown",
   "metadata": {},
   "source": [
    "### Задание (0.15)"
   ]
  },
  {
   "cell_type": "markdown",
   "metadata": {},
   "source": [
    "Перед тем как пойдем дальше реализуем RLMSE"
   ]
  },
  {
   "cell_type": "code",
   "execution_count": 32,
   "metadata": {},
   "outputs": [],
   "source": [
    "def rlmse_score(y_test, y_hat):\n",
    "    \n",
    "    n = len(y_test)\n",
    "    rlmse = np.sqrt(sum((np.log(y_test+1) - np.log(y_hat + 1))**2) / n)\n",
    "    \n",
    "    return rlmse\n",
    "\n",
    "# Эту функцию трогать не надо\n",
    "def rlmse_scorer(estimator, X, y):\n",
    "    y_hat = estimator.predict(X)\n",
    "    \n",
    "    return rlmse_score(y, y_hat)"
   ]
  },
  {
   "cell_type": "markdown",
   "metadata": {},
   "source": [
    "Так как мы еще не знаем, что такое GridSearch или RandomSearch будем исследоать изменение качества только одного из параметров: alpha\n",
    "\n",
    "Сделаем мы это чуть более хитро чем просто в цикле перебирать разные значения:\n",
    "* Во-первых мы сделаем особую кросс-валидацию, учитывающую время\n",
    "* Так как у нас будет кросс-валидация, то мы сможем посмотреть на \"стабильность\" скора, а не просто на его среднее"
   ]
  },
  {
   "cell_type": "code",
   "execution_count": 33,
   "metadata": {},
   "outputs": [],
   "source": [
    "from sklearn.model_selection import validation_curve"
   ]
  },
  {
   "cell_type": "code",
   "execution_count": 34,
   "metadata": {
    "scrolled": true
   },
   "outputs": [
    {
     "name": "stderr",
     "output_type": "stream",
     "text": [
      "C:\\ProgramData\\Anaconda3\\lib\\site-packages\\sklearn\\model_selection\\_split.py:605: Warning: The least populated class in y has only 1 members, which is too few. The minimum number of members in any class cannot be less than n_splits=5.\n",
      "  % (min_groups, self.n_splits)), Warning)\n",
      "C:\\ProgramData\\Anaconda3\\lib\\site-packages\\sklearn\\linear_model\\coordinate_descent.py:491: ConvergenceWarning: Objective did not converge. You might want to increase the number of iterations. Fitting data with very small alpha may cause precision problems.\n",
      "  ConvergenceWarning)\n",
      "C:\\ProgramData\\Anaconda3\\lib\\site-packages\\ipykernel_launcher.py:4: RuntimeWarning: invalid value encountered in log\n",
      "  after removing the cwd from sys.path.\n",
      "C:\\ProgramData\\Anaconda3\\lib\\site-packages\\sklearn\\linear_model\\coordinate_descent.py:491: ConvergenceWarning: Objective did not converge. You might want to increase the number of iterations. Fitting data with very small alpha may cause precision problems.\n",
      "  ConvergenceWarning)\n",
      "C:\\ProgramData\\Anaconda3\\lib\\site-packages\\ipykernel_launcher.py:4: RuntimeWarning: invalid value encountered in log\n",
      "  after removing the cwd from sys.path.\n",
      "C:\\ProgramData\\Anaconda3\\lib\\site-packages\\sklearn\\linear_model\\coordinate_descent.py:491: ConvergenceWarning: Objective did not converge. You might want to increase the number of iterations. Fitting data with very small alpha may cause precision problems.\n",
      "  ConvergenceWarning)\n",
      "C:\\ProgramData\\Anaconda3\\lib\\site-packages\\ipykernel_launcher.py:4: RuntimeWarning: invalid value encountered in log\n",
      "  after removing the cwd from sys.path.\n",
      "C:\\ProgramData\\Anaconda3\\lib\\site-packages\\ipykernel_launcher.py:4: RuntimeWarning: invalid value encountered in log\n",
      "  after removing the cwd from sys.path.\n",
      "C:\\ProgramData\\Anaconda3\\lib\\site-packages\\ipykernel_launcher.py:4: RuntimeWarning: invalid value encountered in log\n",
      "  after removing the cwd from sys.path.\n",
      "C:\\ProgramData\\Anaconda3\\lib\\site-packages\\ipykernel_launcher.py:4: RuntimeWarning: invalid value encountered in log\n",
      "  after removing the cwd from sys.path.\n",
      "C:\\ProgramData\\Anaconda3\\lib\\site-packages\\ipykernel_launcher.py:4: RuntimeWarning: invalid value encountered in log\n",
      "  after removing the cwd from sys.path.\n",
      "C:\\ProgramData\\Anaconda3\\lib\\site-packages\\ipykernel_launcher.py:4: RuntimeWarning: invalid value encountered in log\n",
      "  after removing the cwd from sys.path.\n",
      "C:\\ProgramData\\Anaconda3\\lib\\site-packages\\ipykernel_launcher.py:4: RuntimeWarning: invalid value encountered in log\n",
      "  after removing the cwd from sys.path.\n",
      "C:\\ProgramData\\Anaconda3\\lib\\site-packages\\sklearn\\linear_model\\coordinate_descent.py:491: ConvergenceWarning: Objective did not converge. You might want to increase the number of iterations. Fitting data with very small alpha may cause precision problems.\n",
      "  ConvergenceWarning)\n",
      "C:\\ProgramData\\Anaconda3\\lib\\site-packages\\ipykernel_launcher.py:4: RuntimeWarning: invalid value encountered in log\n",
      "  after removing the cwd from sys.path.\n",
      "C:\\ProgramData\\Anaconda3\\lib\\site-packages\\sklearn\\linear_model\\coordinate_descent.py:491: ConvergenceWarning: Objective did not converge. You might want to increase the number of iterations. Fitting data with very small alpha may cause precision problems.\n",
      "  ConvergenceWarning)\n",
      "C:\\ProgramData\\Anaconda3\\lib\\site-packages\\ipykernel_launcher.py:4: RuntimeWarning: invalid value encountered in log\n",
      "  after removing the cwd from sys.path.\n",
      "C:\\ProgramData\\Anaconda3\\lib\\site-packages\\sklearn\\linear_model\\coordinate_descent.py:491: ConvergenceWarning: Objective did not converge. You might want to increase the number of iterations. Fitting data with very small alpha may cause precision problems.\n",
      "  ConvergenceWarning)\n",
      "C:\\ProgramData\\Anaconda3\\lib\\site-packages\\ipykernel_launcher.py:4: RuntimeWarning: invalid value encountered in log\n",
      "  after removing the cwd from sys.path.\n",
      "C:\\ProgramData\\Anaconda3\\lib\\site-packages\\ipykernel_launcher.py:4: RuntimeWarning: invalid value encountered in log\n",
      "  after removing the cwd from sys.path.\n",
      "C:\\ProgramData\\Anaconda3\\lib\\site-packages\\ipykernel_launcher.py:4: RuntimeWarning: invalid value encountered in log\n",
      "  after removing the cwd from sys.path.\n",
      "C:\\ProgramData\\Anaconda3\\lib\\site-packages\\ipykernel_launcher.py:4: RuntimeWarning: invalid value encountered in log\n",
      "  after removing the cwd from sys.path.\n",
      "C:\\ProgramData\\Anaconda3\\lib\\site-packages\\ipykernel_launcher.py:4: RuntimeWarning: invalid value encountered in log\n",
      "  after removing the cwd from sys.path.\n",
      "C:\\ProgramData\\Anaconda3\\lib\\site-packages\\ipykernel_launcher.py:4: RuntimeWarning: invalid value encountered in log\n",
      "  after removing the cwd from sys.path.\n",
      "C:\\ProgramData\\Anaconda3\\lib\\site-packages\\ipykernel_launcher.py:4: RuntimeWarning: invalid value encountered in log\n",
      "  after removing the cwd from sys.path.\n",
      "C:\\ProgramData\\Anaconda3\\lib\\site-packages\\sklearn\\linear_model\\coordinate_descent.py:491: ConvergenceWarning: Objective did not converge. You might want to increase the number of iterations. Fitting data with very small alpha may cause precision problems.\n",
      "  ConvergenceWarning)\n",
      "C:\\ProgramData\\Anaconda3\\lib\\site-packages\\ipykernel_launcher.py:4: RuntimeWarning: invalid value encountered in log\n",
      "  after removing the cwd from sys.path.\n",
      "C:\\ProgramData\\Anaconda3\\lib\\site-packages\\sklearn\\linear_model\\coordinate_descent.py:491: ConvergenceWarning: Objective did not converge. You might want to increase the number of iterations. Fitting data with very small alpha may cause precision problems.\n",
      "  ConvergenceWarning)\n",
      "C:\\ProgramData\\Anaconda3\\lib\\site-packages\\ipykernel_launcher.py:4: RuntimeWarning: invalid value encountered in log\n",
      "  after removing the cwd from sys.path.\n",
      "C:\\ProgramData\\Anaconda3\\lib\\site-packages\\sklearn\\linear_model\\coordinate_descent.py:491: ConvergenceWarning: Objective did not converge. You might want to increase the number of iterations. Fitting data with very small alpha may cause precision problems.\n",
      "  ConvergenceWarning)\n",
      "C:\\ProgramData\\Anaconda3\\lib\\site-packages\\ipykernel_launcher.py:4: RuntimeWarning: invalid value encountered in log\n",
      "  after removing the cwd from sys.path.\n",
      "C:\\ProgramData\\Anaconda3\\lib\\site-packages\\ipykernel_launcher.py:4: RuntimeWarning: invalid value encountered in log\n",
      "  after removing the cwd from sys.path.\n",
      "C:\\ProgramData\\Anaconda3\\lib\\site-packages\\ipykernel_launcher.py:4: RuntimeWarning: invalid value encountered in log\n",
      "  after removing the cwd from sys.path.\n",
      "C:\\ProgramData\\Anaconda3\\lib\\site-packages\\ipykernel_launcher.py:4: RuntimeWarning: invalid value encountered in log\n",
      "  after removing the cwd from sys.path.\n",
      "C:\\ProgramData\\Anaconda3\\lib\\site-packages\\ipykernel_launcher.py:4: RuntimeWarning: invalid value encountered in log\n",
      "  after removing the cwd from sys.path.\n",
      "C:\\ProgramData\\Anaconda3\\lib\\site-packages\\ipykernel_launcher.py:4: RuntimeWarning: invalid value encountered in log\n",
      "  after removing the cwd from sys.path.\n",
      "C:\\ProgramData\\Anaconda3\\lib\\site-packages\\ipykernel_launcher.py:4: RuntimeWarning: invalid value encountered in log\n",
      "  after removing the cwd from sys.path.\n",
      "C:\\ProgramData\\Anaconda3\\lib\\site-packages\\sklearn\\linear_model\\coordinate_descent.py:491: ConvergenceWarning: Objective did not converge. You might want to increase the number of iterations. Fitting data with very small alpha may cause precision problems.\n",
      "  ConvergenceWarning)\n",
      "C:\\ProgramData\\Anaconda3\\lib\\site-packages\\ipykernel_launcher.py:4: RuntimeWarning: invalid value encountered in log\n",
      "  after removing the cwd from sys.path.\n",
      "C:\\ProgramData\\Anaconda3\\lib\\site-packages\\sklearn\\linear_model\\coordinate_descent.py:491: ConvergenceWarning: Objective did not converge. You might want to increase the number of iterations. Fitting data with very small alpha may cause precision problems.\n",
      "  ConvergenceWarning)\n",
      "C:\\ProgramData\\Anaconda3\\lib\\site-packages\\ipykernel_launcher.py:4: RuntimeWarning: invalid value encountered in log\n",
      "  after removing the cwd from sys.path.\n",
      "C:\\ProgramData\\Anaconda3\\lib\\site-packages\\sklearn\\linear_model\\coordinate_descent.py:491: ConvergenceWarning: Objective did not converge. You might want to increase the number of iterations. Fitting data with very small alpha may cause precision problems.\n",
      "  ConvergenceWarning)\n",
      "C:\\ProgramData\\Anaconda3\\lib\\site-packages\\ipykernel_launcher.py:4: RuntimeWarning: invalid value encountered in log\n",
      "  after removing the cwd from sys.path.\n"
     ]
    },
    {
     "name": "stderr",
     "output_type": "stream",
     "text": [
      "C:\\ProgramData\\Anaconda3\\lib\\site-packages\\ipykernel_launcher.py:4: RuntimeWarning: invalid value encountered in log\n",
      "  after removing the cwd from sys.path.\n",
      "C:\\ProgramData\\Anaconda3\\lib\\site-packages\\ipykernel_launcher.py:4: RuntimeWarning: invalid value encountered in log\n",
      "  after removing the cwd from sys.path.\n",
      "C:\\ProgramData\\Anaconda3\\lib\\site-packages\\ipykernel_launcher.py:4: RuntimeWarning: invalid value encountered in log\n",
      "  after removing the cwd from sys.path.\n",
      "C:\\ProgramData\\Anaconda3\\lib\\site-packages\\ipykernel_launcher.py:4: RuntimeWarning: invalid value encountered in log\n",
      "  after removing the cwd from sys.path.\n",
      "C:\\ProgramData\\Anaconda3\\lib\\site-packages\\ipykernel_launcher.py:4: RuntimeWarning: invalid value encountered in log\n",
      "  after removing the cwd from sys.path.\n",
      "C:\\ProgramData\\Anaconda3\\lib\\site-packages\\ipykernel_launcher.py:4: RuntimeWarning: invalid value encountered in log\n",
      "  after removing the cwd from sys.path.\n",
      "C:\\ProgramData\\Anaconda3\\lib\\site-packages\\sklearn\\linear_model\\coordinate_descent.py:491: ConvergenceWarning: Objective did not converge. You might want to increase the number of iterations. Fitting data with very small alpha may cause precision problems.\n",
      "  ConvergenceWarning)\n",
      "C:\\ProgramData\\Anaconda3\\lib\\site-packages\\ipykernel_launcher.py:4: RuntimeWarning: invalid value encountered in log\n",
      "  after removing the cwd from sys.path.\n",
      "C:\\ProgramData\\Anaconda3\\lib\\site-packages\\sklearn\\linear_model\\coordinate_descent.py:491: ConvergenceWarning: Objective did not converge. You might want to increase the number of iterations. Fitting data with very small alpha may cause precision problems.\n",
      "  ConvergenceWarning)\n",
      "C:\\ProgramData\\Anaconda3\\lib\\site-packages\\ipykernel_launcher.py:4: RuntimeWarning: invalid value encountered in log\n",
      "  after removing the cwd from sys.path.\n",
      "C:\\ProgramData\\Anaconda3\\lib\\site-packages\\sklearn\\linear_model\\coordinate_descent.py:491: ConvergenceWarning: Objective did not converge. You might want to increase the number of iterations. Fitting data with very small alpha may cause precision problems.\n",
      "  ConvergenceWarning)\n",
      "C:\\ProgramData\\Anaconda3\\lib\\site-packages\\ipykernel_launcher.py:4: RuntimeWarning: invalid value encountered in log\n",
      "  after removing the cwd from sys.path.\n",
      "C:\\ProgramData\\Anaconda3\\lib\\site-packages\\ipykernel_launcher.py:4: RuntimeWarning: invalid value encountered in log\n",
      "  after removing the cwd from sys.path.\n",
      "C:\\ProgramData\\Anaconda3\\lib\\site-packages\\ipykernel_launcher.py:4: RuntimeWarning: invalid value encountered in log\n",
      "  after removing the cwd from sys.path.\n",
      "C:\\ProgramData\\Anaconda3\\lib\\site-packages\\ipykernel_launcher.py:4: RuntimeWarning: invalid value encountered in log\n",
      "  after removing the cwd from sys.path.\n",
      "C:\\ProgramData\\Anaconda3\\lib\\site-packages\\ipykernel_launcher.py:4: RuntimeWarning: invalid value encountered in log\n",
      "  after removing the cwd from sys.path.\n",
      "C:\\ProgramData\\Anaconda3\\lib\\site-packages\\ipykernel_launcher.py:4: RuntimeWarning: invalid value encountered in log\n",
      "  after removing the cwd from sys.path.\n",
      "C:\\ProgramData\\Anaconda3\\lib\\site-packages\\ipykernel_launcher.py:4: RuntimeWarning: invalid value encountered in log\n",
      "  after removing the cwd from sys.path.\n"
     ]
    }
   ],
   "source": [
    "# Это не обычная кросс-валидация а стратифицированная. №\n",
    "# С ее помощью мы добъемся того, что в обучающем и валидационном фолде будет одна и та же пропорция годов-месяцев-часов\n",
    "# Тут то и понадобится нам year_month_hour\n",
    "# Подробности http://scikit-learn.org/stable/modules/generated/sklearn.model_selection.StratifiedKFold.html#sklearn.model_selection.StratifiedKFold\n",
    "n_folds = 5\n",
    "cv = StratifiedKFold(n_splits=n_folds, shuffle=True, random_state=123)\n",
    "\n",
    "# Переберем 20 значений в интервале от 10^-3 до 10^5\n",
    "alpha_range = np.logspace(-3, 5, 20)\n",
    "\n",
    "param_name = \"elasticnet__alpha\"\n",
    "# пишем не просто alpha, потому что у нас pipeline и sklearn должен как-то понимать параметр какого этапа мы перебираем\n",
    "\n",
    "train_scores, valid_scores = validation_curve(model, X, y, param_name=param_name, param_range=alpha_range,\n",
    "                                              cv=cv.split(X,y), scoring=rlmse_scorer)\n",
    "# train_scores, valid_scores = validation_curve(model, X, y, param_name=param_name, param_range=alpha_range,\n",
    "#                                               cv=cv.split(X, year_month_hour), scoring=rlmse_scorer)\n",
    "\n",
    "# На выходе мы получим 2 матрицы размера 20 на n_folds\n",
    "# Потому что у нас было 5 фолдов и 20 возможных значений гиперпараметра\n",
    "# А матриц 2, потому что в каждом фолде есть обучающая и валидационная часть"
   ]
  },
  {
   "cell_type": "code",
   "execution_count": 35,
   "metadata": {},
   "outputs": [
    {
     "data": {
      "text/plain": [
       "(20, 5)"
      ]
     },
     "execution_count": 35,
     "metadata": {},
     "output_type": "execute_result"
    }
   ],
   "source": [
    "train_scores.shape"
   ]
  },
  {
   "cell_type": "code",
   "execution_count": 36,
   "metadata": {},
   "outputs": [
    {
     "data": {
      "text/plain": [
       "array([[       nan,        nan,        nan,        nan,        nan],\n",
       "       [       nan,        nan,        nan,        nan,        nan],\n",
       "       [       nan,        nan,        nan,        nan,        nan],\n",
       "       [       nan,        nan,        nan,        nan,        nan],\n",
       "       [       nan,        nan,        nan,        nan,        nan],\n",
       "       [       nan,        nan,        nan,        nan,        nan],\n",
       "       [       nan,        nan,        nan,        nan,        nan],\n",
       "       [       nan,        nan,        nan,        nan,        nan],\n",
       "       [       nan,        nan,        nan,        nan,        nan],\n",
       "       [1.4482482 , 1.4572286 , 1.45394467, 1.42884419, 1.43948269],\n",
       "       [1.51975862, 1.52777182, 1.52497983, 1.49641541, 1.51099906],\n",
       "       [1.55770277, 1.56538852, 1.56257587, 1.53139772, 1.5493121 ],\n",
       "       [1.57229237, 1.57966058, 1.57725311, 1.54439243, 1.56382119],\n",
       "       [1.57350508, 1.58110695, 1.57869369, 1.54512931, 1.56524245],\n",
       "       [1.57350508, 1.58110695, 1.57869369, 1.54512931, 1.56524245],\n",
       "       [1.57350508, 1.58110695, 1.57869369, 1.54512931, 1.56524245],\n",
       "       [1.57350508, 1.58110695, 1.57869369, 1.54512931, 1.56524245],\n",
       "       [1.57350508, 1.58110695, 1.57869369, 1.54512931, 1.56524245],\n",
       "       [1.57350508, 1.58110695, 1.57869369, 1.54512931, 1.56524245],\n",
       "       [1.57350508, 1.58110695, 1.57869369, 1.54512931, 1.56524245]])"
      ]
     },
     "execution_count": 36,
     "metadata": {},
     "output_type": "execute_result"
    }
   ],
   "source": [
    "train_scores"
   ]
  },
  {
   "cell_type": "code",
   "execution_count": 37,
   "metadata": {},
   "outputs": [
    {
     "data": {
      "text/plain": [
       "(20, 5)"
      ]
     },
     "execution_count": 37,
     "metadata": {},
     "output_type": "execute_result"
    }
   ],
   "source": [
    "valid_scores.shape"
   ]
  },
  {
   "cell_type": "markdown",
   "metadata": {},
   "source": [
    "### Задание (0.25)\n",
    "\n",
    "Для каждой матрицы сделайте следующее\n",
    "\n",
    "* По каждой строчке посчитайте среднее значение (среднее значение качества по заданного значения параметра)\n",
    "* По каждой строчке посчитайте стандартное отклонение (мера разброса меры качества)\n",
    "\n",
    "Изобразите график, на котором \n",
    "* по оси x отложены значения alpha\n",
    "* по оси y отложены средние значения меры качества (отдельно для обучающей части и валидационной)\n",
    "* с помощью функции plt.fill_between изобразите разбос меры качества в каждой точке (придется чутка почитать документации)"
   ]
  },
  {
   "cell_type": "code",
   "execution_count": 38,
   "metadata": {},
   "outputs": [
    {
     "data": {
      "text/plain": [
       "array([[       nan],\n",
       "       [       nan],\n",
       "       [       nan],\n",
       "       [       nan],\n",
       "       [       nan],\n",
       "       [       nan],\n",
       "       [       nan],\n",
       "       [       nan],\n",
       "       [       nan],\n",
       "       [1.44554967],\n",
       "       [1.51598494],\n",
       "       [1.55327539],\n",
       "       [1.56748393],\n",
       "       [1.56873549],\n",
       "       [1.56873549],\n",
       "       [1.56873549],\n",
       "       [1.56873549],\n",
       "       [1.56873549],\n",
       "       [1.56873549],\n",
       "       [1.56873549]])"
      ]
     },
     "execution_count": 38,
     "metadata": {},
     "output_type": "execute_result"
    }
   ],
   "source": [
    "train_scores_mean = train_scores.mean(axis=1, keepdims=True)\n",
    "train_scores_mean"
   ]
  },
  {
   "cell_type": "code",
   "execution_count": 39,
   "metadata": {},
   "outputs": [
    {
     "data": {
      "text/plain": [
       "array([[       nan],\n",
       "       [       nan],\n",
       "       [       nan],\n",
       "       [       nan],\n",
       "       [       nan],\n",
       "       [       nan],\n",
       "       [       nan],\n",
       "       [       nan],\n",
       "       [       nan],\n",
       "       [0.01029599],\n",
       "       [0.01133053],\n",
       "       [0.01222431],\n",
       "       [0.01275509],\n",
       "       [0.01299554],\n",
       "       [0.01299554],\n",
       "       [0.01299554],\n",
       "       [0.01299554],\n",
       "       [0.01299554],\n",
       "       [0.01299554],\n",
       "       [0.01299554]])"
      ]
     },
     "execution_count": 39,
     "metadata": {},
     "output_type": "execute_result"
    }
   ],
   "source": [
    "train_scores.std(axis=1, keepdims=True)"
   ]
  },
  {
   "cell_type": "code",
   "execution_count": 40,
   "metadata": {},
   "outputs": [
    {
     "data": {
      "text/plain": [
       "array([[       nan],\n",
       "       [       nan],\n",
       "       [       nan],\n",
       "       [       nan],\n",
       "       [       nan],\n",
       "       [       nan],\n",
       "       [       nan],\n",
       "       [       nan],\n",
       "       [       nan],\n",
       "       [1.45034098],\n",
       "       [1.52058911],\n",
       "       [1.55776076],\n",
       "       [1.5719031 ],\n",
       "       [1.5731407 ],\n",
       "       [1.5731407 ],\n",
       "       [1.5731407 ],\n",
       "       [1.5731407 ],\n",
       "       [1.5731407 ],\n",
       "       [1.5731407 ],\n",
       "       [1.5731407 ]])"
      ]
     },
     "execution_count": 40,
     "metadata": {},
     "output_type": "execute_result"
    }
   ],
   "source": [
    "valid_scores_mean = valid_scores.mean(axis=1, keepdims=True)\n",
    "valid_scores_mean"
   ]
  },
  {
   "cell_type": "code",
   "execution_count": 41,
   "metadata": {},
   "outputs": [
    {
     "data": {
      "text/plain": [
       "array([[       nan],\n",
       "       [       nan],\n",
       "       [       nan],\n",
       "       [       nan],\n",
       "       [       nan],\n",
       "       [       nan],\n",
       "       [       nan],\n",
       "       [       nan],\n",
       "       [       nan],\n",
       "       [0.04269827],\n",
       "       [0.04220285],\n",
       "       [0.04230525],\n",
       "       [0.0423439 ],\n",
       "       [0.04247084],\n",
       "       [0.04247084],\n",
       "       [0.04247084],\n",
       "       [0.04247084],\n",
       "       [0.04247084],\n",
       "       [0.04247084],\n",
       "       [0.04247084]])"
      ]
     },
     "execution_count": 41,
     "metadata": {},
     "output_type": "execute_result"
    }
   ],
   "source": [
    "valid_scores.std(axis=1, keepdims=True)"
   ]
  },
  {
   "cell_type": "code",
   "execution_count": 42,
   "metadata": {},
   "outputs": [
    {
     "data": {
      "text/plain": [
       "Text(0,0.5,'train/test_scores_mean')"
      ]
     },
     "execution_count": 42,
     "metadata": {},
     "output_type": "execute_result"
    },
    {
     "data": {
      "image/png": "[encoded data removed]",
      "text/plain": [
       "<Figure size 720x360 with 1 Axes>"
      ]
     },
     "metadata": {},
     "output_type": "display_data"
    }
   ],
   "source": [
    "x = np.linspace(min(alpha_range), max(alpha_range), 20).reshape(-1, 1)\n",
    "y_tr = train_scores_mean\n",
    "y_t = valid_scores_mean\n",
    "\n",
    "fig, ax = plt.subplots(1, 1, figsize=(10,5))\n",
    "ax.scatter(alpha_range, train_scores_mean, valid_scores_mean)\n",
    "\n",
    "ax.plot(x, y_tr, c='blue')\n",
    "ax.plot(x, y_t, c='blue')\n",
    "plt.xlabel('alpha_range')\n",
    "plt.ylabel('train/test_scores_mean')"
   ]
  },
  {
   "cell_type": "code",
   "execution_count": null,
   "metadata": {},
   "outputs": [],
   "source": [
    "plt.fill_between(x, y_tr, y_t, color='grey', alpha='0.5')\n",
    "plt.show()"
   ]
  }
 ],
 "metadata": {
  "anaconda-cloud": {},
  "kernelspec": {
   "display_name": "Python 3",
   "language": "python",
   "name": "python3"
  },
  "language_info": {
   "codemirror_mode": {
    "name": "ipython",
    "version": 3
   },
   "file_extension": ".py",
   "mimetype": "text/x-python",
   "name": "python",
   "nbconvert_exporter": "python",
   "pygments_lexer": "ipython3",
   "version": "3.6.5"
  },
  "nav_menu": {},
  "toc": {
   "colors": {
    "hover_highlight": "#DAA520",
    "navigate_num": "#000000",
    "navigate_text": "#333333",
    "running_highlight": "#FF0000",
    "selected_highlight": "#FFD700",
    "sidebar_border": "#EEEEEE",
    "wrapper_background": "#FFFFFF"
   },
   "moveMenuLeft": true,
   "nav_menu": {
    "height": "272px",
    "width": "253px"
   },
   "navigate_menu": true,
   "number_sections": false,
   "sideBar": true,
   "threshold": 4,
   "toc_cell": true,
   "toc_section_display": "block",
   "toc_window_display": true,
   "widenNotebook": false
  }
 },
 "nbformat": 4,
 "nbformat_minor": 1
}
