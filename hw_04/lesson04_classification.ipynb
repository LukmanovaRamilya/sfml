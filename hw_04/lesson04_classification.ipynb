{
 "cells": [
  {
   "cell_type": "markdown",
   "metadata": {},
   "source": [
    "# Домашнее задание № 4\n",
    "## Задача на классификацию"
   ]
  },
  {
   "cell_type": "code",
   "execution_count": 1,
   "metadata": {},
   "outputs": [],
   "source": [
    "import pandas as pd\n",
    "import numpy as np\n",
    "import matplotlib.pyplot as plt\n",
    "import seaborn as sns\n",
    "\n",
    "%matplotlib inline\n",
    "\n",
    "plt.style.use('ggplot')\n",
    "plt.rcParams['figure.figsize'] = (12,5)"
   ]
  },
  {
   "cell_type": "markdown",
   "metadata": {},
   "source": [
    "Считаем обучающую и тестовую выборки"
   ]
  },
  {
   "cell_type": "code",
   "execution_count": 2,
   "metadata": {},
   "outputs": [],
   "source": [
    "df_train = pd.read_csv('train.csv', sep=',', encoding='utf8')"
   ]
  },
  {
   "cell_type": "code",
   "execution_count": 3,
   "metadata": {},
   "outputs": [],
   "source": [
    "df_test = pd.read_csv('test.csv', sep=',', encoding='utf8')"
   ]
  },
  {
   "cell_type": "code",
   "execution_count": 4,
   "metadata": {},
   "outputs": [],
   "source": [
    "#df_targ = pd.read_csv('sample_submission.csv', sep=',', encoding='utf8')"
   ]
  },
  {
   "cell_type": "code",
   "execution_count": 5,
   "metadata": {},
   "outputs": [],
   "source": [
    "# df_test = pd.merge(\n",
    "#     df_test,\n",
    "#     df_targ,\n",
    "#     left_on='_id',\n",
    "#     right_on='_id'\n",
    "# )"
   ]
  },
  {
   "cell_type": "code",
   "execution_count": 6,
   "metadata": {},
   "outputs": [
    {
     "name": "stdout",
     "output_type": "stream",
     "text": [
      "<class 'pandas.core.frame.DataFrame'>\n",
      "RangeIndex: 16476 entries, 0 to 16475\n",
      "Data columns (total 21 columns):\n",
      "_id               16476 non-null object\n",
      "age               16476 non-null int64\n",
      "job               16476 non-null object\n",
      "marital           16476 non-null object\n",
      "education         16476 non-null object\n",
      "default           16476 non-null object\n",
      "housing           16476 non-null object\n",
      "loan              16476 non-null object\n",
      "contact           16476 non-null object\n",
      "month             16476 non-null object\n",
      "day_of_week       16476 non-null object\n",
      "duration          16476 non-null int64\n",
      "campaign          16476 non-null int64\n",
      "pdays             16476 non-null int64\n",
      "previous          16476 non-null int64\n",
      "poutcome          16476 non-null object\n",
      "emp.var.rate      16476 non-null float64\n",
      "cons.price.idx    16476 non-null float64\n",
      "cons.conf.idx     16476 non-null float64\n",
      "euribor3m         16476 non-null float64\n",
      "nr.employed       16476 non-null float64\n",
      "dtypes: float64(5), int64(5), object(11)\n",
      "memory usage: 2.6+ MB\n"
     ]
    }
   ],
   "source": [
    "df_test.info()"
   ]
  },
  {
   "cell_type": "code",
   "execution_count": 7,
   "metadata": {},
   "outputs": [],
   "source": [
    "df_train.loc[:, 'sample'] = 'train'\n",
    "df_test.loc[:, 'sample'] = 'test'"
   ]
  },
  {
   "cell_type": "code",
   "execution_count": 8,
   "metadata": {},
   "outputs": [
    {
     "name": "stderr",
     "output_type": "stream",
     "text": [
      "C:\\ProgramData\\Anaconda3\\lib\\site-packages\\pandas\\core\\frame.py:6201: FutureWarning: Sorting because non-concatenation axis is not aligned. A future version\n",
      "of pandas will change to not sort by default.\n",
      "\n",
      "To accept the future behavior, pass 'sort=True'.\n",
      "\n",
      "To retain the current behavior and silence the warning, pass sort=False\n",
      "\n",
      "  sort=sort)\n"
     ]
    }
   ],
   "source": [
    "df = df_test.append(df_train).reset_index(drop=True)"
   ]
  },
  {
   "cell_type": "code",
   "execution_count": 9,
   "metadata": {},
   "outputs": [
    {
     "data": {
      "text/html": [
       "<div>\n",
       "<style scoped>\n",
       "    .dataframe tbody tr th:only-of-type {\n",
       "        vertical-align: middle;\n",
       "    }\n",
       "\n",
       "    .dataframe tbody tr th {\n",
       "        vertical-align: top;\n",
       "    }\n",
       "\n",
       "    .dataframe thead th {\n",
       "        text-align: right;\n",
       "    }\n",
       "</style>\n",
       "<table border=\"1\" class=\"dataframe\">\n",
       "  <thead>\n",
       "    <tr style=\"text-align: right;\">\n",
       "      <th></th>\n",
       "      <th>_id</th>\n",
       "      <th>age</th>\n",
       "      <th>campaign</th>\n",
       "      <th>cons.conf.idx</th>\n",
       "      <th>cons.price.idx</th>\n",
       "      <th>contact</th>\n",
       "      <th>day_of_week</th>\n",
       "      <th>default</th>\n",
       "      <th>duration</th>\n",
       "      <th>education</th>\n",
       "      <th>...</th>\n",
       "      <th>job</th>\n",
       "      <th>loan</th>\n",
       "      <th>marital</th>\n",
       "      <th>month</th>\n",
       "      <th>nr.employed</th>\n",
       "      <th>pdays</th>\n",
       "      <th>poutcome</th>\n",
       "      <th>previous</th>\n",
       "      <th>sample</th>\n",
       "      <th>target</th>\n",
       "    </tr>\n",
       "  </thead>\n",
       "  <tbody>\n",
       "    <tr>\n",
       "      <th>0</th>\n",
       "      <td>66810d8e6bf2b41c880a7bc6c8a1e295</td>\n",
       "      <td>57</td>\n",
       "      <td>1</td>\n",
       "      <td>-46.2</td>\n",
       "      <td>92.893</td>\n",
       "      <td>cellular</td>\n",
       "      <td>mon</td>\n",
       "      <td>no</td>\n",
       "      <td>371</td>\n",
       "      <td>high.school</td>\n",
       "      <td>...</td>\n",
       "      <td>technician</td>\n",
       "      <td>yes</td>\n",
       "      <td>married</td>\n",
       "      <td>may</td>\n",
       "      <td>5099.1</td>\n",
       "      <td>999</td>\n",
       "      <td>failure</td>\n",
       "      <td>1</td>\n",
       "      <td>test</td>\n",
       "      <td>NaN</td>\n",
       "    </tr>\n",
       "    <tr>\n",
       "      <th>1</th>\n",
       "      <td>ccac3879652b08cb8b44c1920fd93afa</td>\n",
       "      <td>55</td>\n",
       "      <td>2</td>\n",
       "      <td>-36.4</td>\n",
       "      <td>93.994</td>\n",
       "      <td>telephone</td>\n",
       "      <td>thu</td>\n",
       "      <td>unknown</td>\n",
       "      <td>285</td>\n",
       "      <td>unknown</td>\n",
       "      <td>...</td>\n",
       "      <td>unknown</td>\n",
       "      <td>no</td>\n",
       "      <td>married</td>\n",
       "      <td>may</td>\n",
       "      <td>5191.0</td>\n",
       "      <td>999</td>\n",
       "      <td>nonexistent</td>\n",
       "      <td>0</td>\n",
       "      <td>test</td>\n",
       "      <td>NaN</td>\n",
       "    </tr>\n",
       "    <tr>\n",
       "      <th>2</th>\n",
       "      <td>fcccab4d7a76f70647f015f2c84c2af8</td>\n",
       "      <td>33</td>\n",
       "      <td>1</td>\n",
       "      <td>-46.2</td>\n",
       "      <td>92.893</td>\n",
       "      <td>cellular</td>\n",
       "      <td>fri</td>\n",
       "      <td>no</td>\n",
       "      <td>52</td>\n",
       "      <td>basic.9y</td>\n",
       "      <td>...</td>\n",
       "      <td>blue-collar</td>\n",
       "      <td>no</td>\n",
       "      <td>married</td>\n",
       "      <td>may</td>\n",
       "      <td>5099.1</td>\n",
       "      <td>999</td>\n",
       "      <td>failure</td>\n",
       "      <td>1</td>\n",
       "      <td>test</td>\n",
       "      <td>NaN</td>\n",
       "    </tr>\n",
       "    <tr>\n",
       "      <th>3</th>\n",
       "      <td>ed8399278c30678dab739045fa12b440</td>\n",
       "      <td>36</td>\n",
       "      <td>4</td>\n",
       "      <td>-41.8</td>\n",
       "      <td>94.465</td>\n",
       "      <td>telephone</td>\n",
       "      <td>fri</td>\n",
       "      <td>no</td>\n",
       "      <td>355</td>\n",
       "      <td>high.school</td>\n",
       "      <td>...</td>\n",
       "      <td>admin.</td>\n",
       "      <td>no</td>\n",
       "      <td>married</td>\n",
       "      <td>jun</td>\n",
       "      <td>5228.1</td>\n",
       "      <td>999</td>\n",
       "      <td>nonexistent</td>\n",
       "      <td>0</td>\n",
       "      <td>test</td>\n",
       "      <td>NaN</td>\n",
       "    </tr>\n",
       "    <tr>\n",
       "      <th>4</th>\n",
       "      <td>1d4d62ac5cabcb48bac7112813f290cb</td>\n",
       "      <td>27</td>\n",
       "      <td>2</td>\n",
       "      <td>-42.7</td>\n",
       "      <td>93.918</td>\n",
       "      <td>cellular</td>\n",
       "      <td>fri</td>\n",
       "      <td>no</td>\n",
       "      <td>189</td>\n",
       "      <td>high.school</td>\n",
       "      <td>...</td>\n",
       "      <td>housemaid</td>\n",
       "      <td>no</td>\n",
       "      <td>married</td>\n",
       "      <td>jul</td>\n",
       "      <td>5228.1</td>\n",
       "      <td>999</td>\n",
       "      <td>nonexistent</td>\n",
       "      <td>0</td>\n",
       "      <td>test</td>\n",
       "      <td>NaN</td>\n",
       "    </tr>\n",
       "  </tbody>\n",
       "</table>\n",
       "<p>5 rows × 23 columns</p>\n",
       "</div>"
      ],
      "text/plain": [
       "                                _id  age  campaign  cons.conf.idx  \\\n",
       "0  66810d8e6bf2b41c880a7bc6c8a1e295   57         1          -46.2   \n",
       "1  ccac3879652b08cb8b44c1920fd93afa   55         2          -36.4   \n",
       "2  fcccab4d7a76f70647f015f2c84c2af8   33         1          -46.2   \n",
       "3  ed8399278c30678dab739045fa12b440   36         4          -41.8   \n",
       "4  1d4d62ac5cabcb48bac7112813f290cb   27         2          -42.7   \n",
       "\n",
       "   cons.price.idx    contact day_of_week  default  duration    education  \\\n",
       "0          92.893   cellular         mon       no       371  high.school   \n",
       "1          93.994  telephone         thu  unknown       285      unknown   \n",
       "2          92.893   cellular         fri       no        52     basic.9y   \n",
       "3          94.465  telephone         fri       no       355  high.school   \n",
       "4          93.918   cellular         fri       no       189  high.school   \n",
       "\n",
       "   ...            job  loan  marital month nr.employed pdays     poutcome  \\\n",
       "0  ...     technician   yes  married   may      5099.1   999      failure   \n",
       "1  ...        unknown    no  married   may      5191.0   999  nonexistent   \n",
       "2  ...    blue-collar    no  married   may      5099.1   999      failure   \n",
       "3  ...         admin.    no  married   jun      5228.1   999  nonexistent   \n",
       "4  ...      housemaid    no  married   jul      5228.1   999  nonexistent   \n",
       "\n",
       "   previous  sample target  \n",
       "0         1    test    NaN  \n",
       "1         0    test    NaN  \n",
       "2         1    test    NaN  \n",
       "3         0    test    NaN  \n",
       "4         0    test    NaN  \n",
       "\n",
       "[5 rows x 23 columns]"
      ]
     },
     "execution_count": 9,
     "metadata": {},
     "output_type": "execute_result"
    }
   ],
   "source": [
    "df.head()"
   ]
  },
  {
   "cell_type": "code",
   "execution_count": 10,
   "metadata": {},
   "outputs": [
    {
     "name": "stdout",
     "output_type": "stream",
     "text": [
      "<class 'pandas.core.frame.DataFrame'>\n",
      "RangeIndex: 41188 entries, 0 to 41187\n",
      "Data columns (total 23 columns):\n",
      "_id               41188 non-null object\n",
      "age               41188 non-null int64\n",
      "campaign          41188 non-null int64\n",
      "cons.conf.idx     41188 non-null float64\n",
      "cons.price.idx    41188 non-null float64\n",
      "contact           41188 non-null object\n",
      "day_of_week       41188 non-null object\n",
      "default           41188 non-null object\n",
      "duration          41188 non-null int64\n",
      "education         41188 non-null object\n",
      "emp.var.rate      41188 non-null float64\n",
      "euribor3m         41188 non-null float64\n",
      "housing           41188 non-null object\n",
      "job               41188 non-null object\n",
      "loan              41188 non-null object\n",
      "marital           41188 non-null object\n",
      "month             41188 non-null object\n",
      "nr.employed       41188 non-null float64\n",
      "pdays             41188 non-null int64\n",
      "poutcome          41188 non-null object\n",
      "previous          41188 non-null int64\n",
      "sample            41188 non-null object\n",
      "target            24712 non-null float64\n",
      "dtypes: float64(6), int64(5), object(12)\n",
      "memory usage: 7.2+ MB\n"
     ]
    }
   ],
   "source": [
    "df.info()"
   ]
  },
  {
   "cell_type": "code",
   "execution_count": 11,
   "metadata": {},
   "outputs": [
    {
     "name": "stdout",
     "output_type": "stream",
     "text": [
      "==========\n",
      "age\n",
      "{17, 18, 19, 20, 21, 22, 23, 24, 25, 26, 27, 28, 29, 30, 31, 32, 33, 34, 35, 36, 37, 38, 39, 40, 41, 42, 43, 44, 45, 46, 47, 48, 49, 50, 51, 52, 53, 54, 55, 56, 57, 58, 59, 60, 61, 62, 63, 64, 65, 66, 67, 68, 69, 70, 71, 72, 73, 74, 75, 76, 77, 78, 79, 80, 81, 82, 83, 84, 85, 86, 87, 88, 89, 91, 92, 94, 95, 98}\n",
      "\n",
      "\n",
      "==========\n",
      "campaign\n",
      "{1, 2, 3, 4, 5, 6, 7, 8, 9, 10, 11, 12, 13, 14, 15, 16, 17, 18, 19, 20, 21, 22, 23, 24, 25, 26, 27, 28, 29, 30, 31, 32, 33, 34, 35, 37, 39, 40, 41, 42, 43, 56}\n",
      "\n",
      "\n",
      "==========\n",
      "cons.conf.idx\n",
      "{-40.4, -40.0, -39.8, -50.8, -49.5, -50.0, -47.1, -46.2, -45.9, -42.7, -41.8, -40.3, -40.8, -42.0, -38.3, -36.4, -37.5, -34.6, -36.1, -34.8, -31.4, -30.1, -29.8, -33.6, -33.0, -26.9}\n",
      "\n",
      "\n",
      "==========\n",
      "cons.price.idx\n",
      "{93.798, 94.055, 92.893, 92.713, 92.756, 93.994, 93.2, 93.075, 93.369, 93.749, 94.027, 93.918, 94.465, 92.649, 92.379, 94.767, 94.215, 92.843, 92.201, 92.963, 92.469, 92.431, 94.199, 93.444, 94.601, 93.876}\n",
      "\n",
      "\n",
      "==========\n",
      "contact\n",
      "{'cellular', 'telephone'}\n",
      "\n",
      "\n",
      "==========\n",
      "day_of_week\n",
      "{'mon', 'fri', 'tue', 'wed', 'thu'}\n",
      "\n",
      "\n",
      "==========\n",
      "default\n",
      "{'no', 'unknown', 'yes'}\n",
      "\n",
      "\n",
      "==========\n",
      "education\n",
      "{'illiterate', 'professional.course', 'basic.4y', 'university.degree', 'basic.9y', 'high.school', 'unknown', 'basic.6y'}\n",
      "\n",
      "\n",
      "==========\n",
      "emp.var.rate\n",
      "{-0.1, 1.1, 1.4, -0.2, -1.8, -1.7, -3.0, -3.4, -2.9, -1.1}\n",
      "\n",
      "\n",
      "==========\n",
      "housing\n",
      "{'no', 'unknown', 'yes'}\n",
      "\n",
      "\n",
      "==========\n",
      "job\n",
      "{'services', 'housemaid', 'unemployed', 'blue-collar', 'retired', 'self-employed', 'student', 'technician', 'unknown', 'admin.', 'entrepreneur', 'management'}\n",
      "\n",
      "\n",
      "==========\n",
      "loan\n",
      "{'no', 'unknown', 'yes'}\n",
      "\n",
      "\n",
      "==========\n",
      "marital\n",
      "{'married', 'unknown', 'single', 'divorced'}\n",
      "\n",
      "\n",
      "==========\n",
      "month\n",
      "{'sep', 'may', 'jun', 'oct', 'apr', 'dec', 'mar', 'jul', 'aug', 'nov'}\n",
      "\n",
      "\n",
      "==========\n",
      "nr.employed\n",
      "{4963.6, 5191.0, 5099.1, 5228.1, 5195.8, 5008.7, 5076.2, 5023.5, 5017.5, 5176.3, 4991.6}\n",
      "\n",
      "\n",
      "==========\n",
      "pdays\n",
      "{0, 1, 2, 3, 4, 5, 6, 7, 8, 9, 10, 11, 12, 13, 14, 15, 16, 17, 18, 19, 20, 21, 22, 25, 26, 27, 999}\n",
      "\n",
      "\n",
      "==========\n",
      "poutcome\n",
      "{'nonexistent', 'failure', 'success'}\n",
      "\n",
      "\n",
      "==========\n",
      "previous\n",
      "{0, 1, 2, 3, 4, 5, 6, 7}\n",
      "\n",
      "\n",
      "==========\n",
      "sample\n",
      "{'test', 'train'}\n",
      "\n",
      "\n"
     ]
    }
   ],
   "source": [
    "for i in df.columns:\n",
    "    if len(set(df[i]))< 100:\n",
    "        print('='*10)\n",
    "        print(i)\n",
    "        print(set(df[i]))\n",
    "        print('\\n')"
   ]
  },
  {
   "cell_type": "markdown",
   "metadata": {
    "collapsed": true
   },
   "source": [
    "Поиск категориальных признаков"
   ]
  },
  {
   "cell_type": "code",
   "execution_count": 12,
   "metadata": {},
   "outputs": [
    {
     "name": "stdout",
     "output_type": "stream",
     "text": [
      "==========\n",
      "contact\n",
      "{'cellular', 'telephone'}\n",
      "4.855783237836263e-05\n",
      "\n",
      "\n",
      "==========\n",
      "day_of_week\n",
      "{'mon', 'fri', 'tue', 'wed', 'thu'}\n",
      "0.00012139458094590657\n",
      "\n",
      "\n",
      "==========\n",
      "default\n",
      "{'no', 'unknown', 'yes'}\n",
      "7.283674856754395e-05\n",
      "\n",
      "\n",
      "==========\n",
      "education\n",
      "{'illiterate', 'professional.course', 'basic.4y', 'university.degree', 'basic.9y', 'high.school', 'unknown', 'basic.6y'}\n",
      "0.00019423132951345052\n",
      "\n",
      "\n",
      "==========\n",
      "housing\n",
      "{'no', 'unknown', 'yes'}\n",
      "7.283674856754395e-05\n",
      "\n",
      "\n",
      "==========\n",
      "job\n",
      "{'services', 'housemaid', 'unemployed', 'blue-collar', 'retired', 'self-employed', 'student', 'technician', 'unknown', 'admin.', 'entrepreneur', 'management'}\n",
      "0.0002913469942701758\n",
      "\n",
      "\n",
      "==========\n",
      "loan\n",
      "{'no', 'unknown', 'yes'}\n",
      "7.283674856754395e-05\n",
      "\n",
      "\n",
      "==========\n",
      "marital\n",
      "{'married', 'unknown', 'single', 'divorced'}\n",
      "9.711566475672526e-05\n",
      "\n",
      "\n",
      "==========\n",
      "month\n",
      "{'sep', 'may', 'jun', 'oct', 'apr', 'dec', 'mar', 'jul', 'aug', 'nov'}\n",
      "0.00024278916189181314\n",
      "\n",
      "\n",
      "==========\n",
      "poutcome\n",
      "{'nonexistent', 'failure', 'success'}\n",
      "7.283674856754395e-05\n",
      "\n",
      "\n",
      "==========\n",
      "sample\n",
      "{'test', 'train'}\n",
      "4.855783237836263e-05\n",
      "\n",
      "\n"
     ]
    }
   ],
   "source": [
    "a = max(df.count())\n",
    "\n",
    "for i in df.columns:\n",
    "    if  len(set(df[i]))/a < 0.005 and ('object' in str(df[i].dtype)):\n",
    "        print('='*10)\n",
    "        print(i)\n",
    "        print(set(df[i]))\n",
    "        print(len(set(df[i]))/a)\n",
    "        print('\\n')"
   ]
  },
  {
   "cell_type": "code",
   "execution_count": 13,
   "metadata": {},
   "outputs": [
    {
     "name": "stdout",
     "output_type": "stream",
     "text": [
      "\n",
      "job\n",
      "admin.           10422\n",
      "blue-collar       9254\n",
      "technician        6743\n",
      "services          3969\n",
      "management        2924\n",
      "retired           1720\n",
      "entrepreneur      1456\n",
      "self-employed     1421\n",
      "housemaid         1060\n",
      "unemployed        1014\n",
      "student            875\n",
      "unknown            330\n",
      "Name: job, dtype: int64\n",
      "_____________________________________________\n",
      "\n",
      "marital\n",
      "married     24928\n",
      "single      11568\n",
      "divorced     4612\n",
      "unknown        80\n",
      "Name: marital, dtype: int64\n",
      "_____________________________________________\n",
      "\n",
      "education\n",
      "university.degree      12168\n",
      "high.school             9515\n",
      "basic.9y                6045\n",
      "professional.course     5243\n",
      "basic.4y                4176\n",
      "basic.6y                2292\n",
      "unknown                 1731\n",
      "illiterate                18\n",
      "Name: education, dtype: int64\n",
      "_____________________________________________\n",
      "\n",
      "default\n",
      "no         32588\n",
      "unknown     8597\n",
      "yes            3\n",
      "Name: default, dtype: int64\n",
      "_____________________________________________\n",
      "\n",
      "housing\n",
      "yes        21576\n",
      "no         18622\n",
      "unknown      990\n",
      "Name: housing, dtype: int64\n",
      "_____________________________________________\n",
      "\n",
      "loan\n",
      "no         33950\n",
      "yes         6248\n",
      "unknown      990\n",
      "Name: loan, dtype: int64\n",
      "_____________________________________________\n",
      "\n",
      "contact\n",
      "cellular     26144\n",
      "telephone    15044\n",
      "Name: contact, dtype: int64\n",
      "_____________________________________________\n",
      "\n",
      "month\n",
      "may    13769\n",
      "jul     7174\n",
      "aug     6178\n",
      "jun     5318\n",
      "nov     4101\n",
      "apr     2632\n",
      "oct      718\n",
      "sep      570\n",
      "mar      546\n",
      "dec      182\n",
      "Name: month, dtype: int64\n",
      "_____________________________________________\n",
      "\n",
      "day_of_week\n",
      "thu    8623\n",
      "mon    8514\n",
      "wed    8134\n",
      "tue    8090\n",
      "fri    7827\n",
      "Name: day_of_week, dtype: int64\n",
      "_____________________________________________\n",
      "\n",
      "poutcome\n",
      "nonexistent    35563\n",
      "failure         4252\n",
      "success         1373\n",
      "Name: poutcome, dtype: int64\n",
      "_____________________________________________\n"
     ]
    }
   ],
   "source": [
    "for i in ['job', 'marital', 'education', 'default', 'housing','loan', 'contact', 'month', 'day_of_week', 'poutcome']:\n",
    "    print('')\n",
    "    print(i)\n",
    "    print(df[i].value_counts())\n",
    "    print('_____________________________________________')"
   ]
  },
  {
   "cell_type": "code",
   "execution_count": 14,
   "metadata": {},
   "outputs": [
    {
     "name": "stdout",
     "output_type": "stream",
     "text": [
      "<class 'pandas.core.frame.DataFrame'>\n",
      "RangeIndex: 41188 entries, 0 to 41187\n",
      "Data columns (total 23 columns):\n",
      "_id               41188 non-null object\n",
      "age               41188 non-null int64\n",
      "campaign          41188 non-null int64\n",
      "cons.conf.idx     41188 non-null float64\n",
      "cons.price.idx    41188 non-null float64\n",
      "contact           41188 non-null object\n",
      "day_of_week       41188 non-null object\n",
      "default           41188 non-null object\n",
      "duration          41188 non-null int64\n",
      "education         41188 non-null object\n",
      "emp.var.rate      41188 non-null float64\n",
      "euribor3m         41188 non-null float64\n",
      "housing           41188 non-null object\n",
      "job               41188 non-null object\n",
      "loan              41188 non-null object\n",
      "marital           41188 non-null object\n",
      "month             41188 non-null object\n",
      "nr.employed       41188 non-null float64\n",
      "pdays             41188 non-null int64\n",
      "poutcome          41188 non-null object\n",
      "previous          41188 non-null int64\n",
      "sample            41188 non-null object\n",
      "target            24712 non-null float64\n",
      "dtypes: float64(6), int64(5), object(12)\n",
      "memory usage: 7.2+ MB\n"
     ]
    }
   ],
   "source": [
    "df.info()"
   ]
  },
  {
   "cell_type": "code",
   "execution_count": 15,
   "metadata": {},
   "outputs": [
    {
     "data": {
      "text/plain": [
       "<matplotlib.axes._subplots.AxesSubplot at 0x21246989a90>"
      ]
     },
     "execution_count": 15,
     "metadata": {},
     "output_type": "execute_result"
    },
    {
     "data": {
      "image/png": "[encoded data removed]",
      "text/plain": [
       "<Figure size 1512x1512 with 2 Axes>"
      ]
     },
     "metadata": {},
     "output_type": "display_data"
    }
   ],
   "source": [
    "f, ax = plt.subplots(figsize = (21, 21))\n",
    "sns.heatmap(df.corr(), ax = ax, annot=True)"
   ]
  },
  {
   "cell_type": "code",
   "execution_count": 16,
   "metadata": {},
   "outputs": [],
   "source": [
    "# Удаляем сильно скоррелированные признаки\n",
    "df = df.drop(['previous'], axis=1)    \n",
    "df = df.drop(['emp.var.rate'], axis=1)\n",
    "df = df.drop(['euribor3m'], axis=1)"
   ]
  },
  {
   "cell_type": "code",
   "execution_count": 17,
   "metadata": {},
   "outputs": [
    {
     "data": {
      "text/plain": [
       "<matplotlib.axes._subplots.AxesSubplot at 0x2124750fd30>"
      ]
     },
     "execution_count": 17,
     "metadata": {},
     "output_type": "execute_result"
    },
    {
     "data": {
      "image/png": "[encoded data removed]",
      "text/plain": [
       "<Figure size 1512x1512 with 2 Axes>"
      ]
     },
     "metadata": {},
     "output_type": "display_data"
    }
   ],
   "source": [
    "f, ax = plt.subplots(figsize = (21, 21))\n",
    "sns.heatmap(df.corr(), ax = ax, annot=True)"
   ]
  },
  {
   "cell_type": "code",
   "execution_count": 18,
   "metadata": {},
   "outputs": [],
   "source": [
    "def preproc_data(df_input):\n",
    "    df_output = df_input.copy()\n",
    "\n",
    "    # Удаляем идентификатор _id\n",
    "    if '_id' in df_output.columns:\n",
    "        df_output = df_output.drop(['_id'], axis=1)\n",
    "        \n",
    "        \n",
    "    # Кодируем категориальные признаки\n",
    "    df_output = pd.get_dummies(df_output, columns=['job', 'marital', 'education', 'default', 'housing','loan', 'contact', 'month', 'day_of_week', 'poutcome'])\n",
    "    \n",
    "    return df_output"
   ]
  },
  {
   "cell_type": "code",
   "execution_count": 19,
   "metadata": {
    "scrolled": true
   },
   "outputs": [],
   "source": [
    "df_preproc = df.pipe(preproc_data)\n",
    "\n",
    "df_train_preproc = df_preproc.query('sample == \"train\"').drop(['sample'], axis=1)\n",
    "df_test_preproc = df_preproc.query('sample == \"test\"').drop(['sample'], axis=1)"
   ]
  },
  {
   "cell_type": "markdown",
   "metadata": {},
   "source": [
    "Отделим целевую переменную и остальные признаки"
   ]
  },
  {
   "cell_type": "code",
   "execution_count": 20,
   "metadata": {},
   "outputs": [],
   "source": [
    "X = df_train_preproc[df_train_preproc.columns[df_train_preproc.columns != 'target']].values\n",
    "X_test = df_test_preproc[df_test_preproc.columns[df_test_preproc.columns != 'target']].values\n",
    "\n",
    "Y = df_train_preproc.loc[:, 'target'].values\n",
    "#Y_test = df_test_preproc.loc[:, 'target'].values"
   ]
  },
  {
   "cell_type": "code",
   "execution_count": 21,
   "metadata": {},
   "outputs": [
    {
     "name": "stderr",
     "output_type": "stream",
     "text": [
      "C:\\ProgramData\\Anaconda3\\lib\\site-packages\\sklearn\\cross_validation.py:41: DeprecationWarning: This module was deprecated in version 0.18 in favor of the model_selection module into which all the refactored classes and functions are moved. Also note that the interface of the new CV iterators are different from that of this module. This module will be removed in 0.20.\n",
      "  \"This module will be removed in 0.20.\", DeprecationWarning)\n"
     ]
    }
   ],
   "source": [
    "from sklearn.cross_validation import train_test_split\n",
    "# test_size=0.3, random_state=42 \n",
    "#train test split is a library to split Split data into train and test samples\n",
    "X_train, X_test, Y_train, Y_test = train_test_split(X, Y, test_size = 0.3, random_state = 42)"
   ]
  },
  {
   "cell_type": "markdown",
   "metadata": {},
   "source": [
    "Обучение и оценка качества разных моделей"
   ]
  },
  {
   "cell_type": "code",
   "execution_count": 22,
   "metadata": {},
   "outputs": [
    {
     "name": "stdout",
     "output_type": "stream",
     "text": [
      "2\n",
      "0.9049096304289183\n",
      "0.6202090592334495\n",
      "0.4223013048635824\n",
      "\n",
      "\n",
      "3\n",
      "0.9088211491772322\n",
      "0.5981198589894242\n",
      "0.6037959667852907\n",
      "\n",
      "\n",
      "4\n",
      "0.9155651470191529\n",
      "0.6854700854700855\n",
      "0.47568208778173193\n",
      "\n",
      "\n",
      "5\n",
      "0.9131373077960615\n",
      "0.6866791744840526\n",
      "0.43416370106761565\n",
      "\n",
      "\n"
     ]
    }
   ],
   "source": [
    "# Деревья решений\n",
    "\n",
    "from sklearn.tree import DecisionTreeClassifier\n",
    "for i in range(2,6):\n",
    "    clf = DecisionTreeClassifier(max_depth = i)\n",
    "    clf.fit(X_train, Y_train)\n",
    "    y_clf = clf.predict(X_test)\n",
    "    y_clf_proba = clf.predict_proba(X_test)\n",
    "    #print(Y_test)\n",
    "    \n",
    "    from sklearn.metrics import accuracy_score, precision_score, recall_score\n",
    "    \n",
    "    print(i)\n",
    "    print(accuracy_score(Y_test, y_clf))\n",
    "    print(precision_score(Y_test, y_clf))\n",
    "    print(recall_score(Y_test, y_clf))\n",
    "    print('\\n')"
   ]
  },
  {
   "cell_type": "code",
   "execution_count": 23,
   "metadata": {},
   "outputs": [
    {
     "name": "stdout",
     "output_type": "stream",
     "text": [
      "0.9155651470191529\n",
      "0.6854700854700855\n",
      "0.47568208778173193\n"
     ]
    }
   ],
   "source": [
    "# Выбираем max_depth = 4\n",
    "\n",
    "from sklearn.tree import DecisionTreeClassifier\n",
    "\n",
    "clf = DecisionTreeClassifier(max_depth = 4)\n",
    "clf.fit(X_train, Y_train)\n",
    "y_clf = clf.predict(X_test)\n",
    "y_clf_proba = clf.predict_proba(X_test)\n",
    "\n",
    "from sklearn.metrics import accuracy_score, precision_score, recall_score\n",
    "    \n",
    "print(accuracy_score(Y_test, y_clf))\n",
    "print(precision_score(Y_test, y_clf))\n",
    "print(recall_score(Y_test, y_clf))"
   ]
  },
  {
   "cell_type": "code",
   "execution_count": 24,
   "metadata": {},
   "outputs": [
    {
     "name": "stdout",
     "output_type": "stream",
     "text": [
      "0.8804963582411653\n",
      "0.47406513872135103\n",
      "0.46619217081850534\n"
     ]
    }
   ],
   "source": [
    "# Метод k ближайших соседей\n",
    "\n",
    "from sklearn.neighbors import KNeighborsClassifier\n",
    "from sklearn.cross_validation import train_test_split\n",
    "\n",
    "knn = KNeighborsClassifier(n_neighbors=1, weights='uniform', metric='euclidean')\n",
    "knn.fit(X_train, Y_train)\n",
    "y_knn = knn.predict(X_test)\n",
    "y_knn_proba = knn.predict_proba(X_test)\n",
    "\n",
    "from sklearn.metrics import accuracy_score, precision_score, recall_score\n",
    "\n",
    "print(accuracy_score(Y_test, y_knn))\n",
    "print(precision_score(Y_test, y_knn))\n",
    "print(recall_score(Y_test, y_knn))"
   ]
  },
  {
   "cell_type": "code",
   "execution_count": 25,
   "metadata": {},
   "outputs": [
    {
     "name": "stdout",
     "output_type": "stream",
     "text": [
      "0.9120582681413542\n",
      "0.6847195357833655\n",
      "0.4199288256227758\n"
     ]
    }
   ],
   "source": [
    "# Логистическая регрессия\n",
    "\n",
    "from sklearn.linear_model import LogisticRegression\n",
    "\n",
    "reg = LogisticRegression(C=1.0, fit_intercept=True, penalty='l2')\n",
    "reg.fit(X_train, Y_train)\n",
    "y_reg = reg.predict(X_test)\n",
    "y_reg_proba = reg.predict_proba(X_test)\n",
    "\n",
    "from sklearn.metrics import accuracy_score, precision_score, recall_score\n",
    "\n",
    "print(accuracy_score(Y_test, y_reg))\n",
    "print(precision_score(Y_test, y_reg))\n",
    "print(recall_score(Y_test, y_reg))"
   ]
  },
  {
   "cell_type": "code",
   "execution_count": 26,
   "metadata": {},
   "outputs": [
    {
     "data": {
      "text/plain": [
       "(-0.01, 1.01)"
      ]
     },
     "execution_count": 26,
     "metadata": {},
     "output_type": "execute_result"
    },
    {
     "data": {
      "image/png": "[encoded data removed]",
      "text/plain": [
       "<Figure size 360x360 with 1 Axes>"
      ]
     },
     "metadata": {},
     "output_type": "display_data"
    }
   ],
   "source": [
    "# Визуализировать эти метрики всех моделей на одном графике (чтоб визуально посмотреть)\n",
    "\n",
    "from sklearn.metrics import precision_recall_curve, roc_curve, roc_auc_score, auc\n",
    "\n",
    "precision_clf, recall_clf, thresholds_clf = precision_recall_curve(Y_test, y_clf_proba[:,1])\n",
    "precision_knn, recall_knn, thresholds_knn = precision_recall_curve(Y_test, y_knn_proba[:,1])\n",
    "precision_reg, recall_reg, thresholds_reg = precision_recall_curve(Y_test, y_reg_proba[:,1])\n",
    "\n",
    "plt.figure(figsize=(5, 5))\n",
    "plt.plot(recall_clf, precision_clf,'b')\n",
    "plt.plot(recall_knn, precision_knn,'g')\n",
    "plt.plot(recall_reg, precision_reg, 'r')\n",
    "plt.xlabel('recall')\n",
    "plt.ylabel('precision')\n",
    "plt.grid(True)\n",
    "plt.title('PR curve')\n",
    "plt.xlim((-0.01, 1.01))\n",
    "plt.ylim((-0.01, 1.01))"
   ]
  },
  {
   "cell_type": "code",
   "execution_count": 27,
   "metadata": {},
   "outputs": [
    {
     "data": {
      "text/plain": [
       "(-0.01, 1.01)"
      ]
     },
     "execution_count": 27,
     "metadata": {},
     "output_type": "execute_result"
    },
    {
     "data": {
      "image/png": "[encoded data removed]",
      "text/plain": [
       "<Figure size 360x360 with 1 Axes>"
      ]
     },
     "metadata": {},
     "output_type": "display_data"
    }
   ],
   "source": [
    "# Потроить roc-кривые всех моделей на одном графике\n",
    "# Вывести roc_auc каждой моделе\n",
    "\n",
    "fpr_clf, tpr_clf, thresholds_clf = roc_curve(Y_test, y_clf_proba[:,1])\n",
    "roc_auc_clf = auc(fpr_clf, tpr_clf)\n",
    "\n",
    "fpr_knn, tpr_knn, thresholds_knn = roc_curve(Y_test, y_knn_proba[:,1])\n",
    "roc_auc_knn = auc(fpr_knn, tpr_knn)\n",
    "\n",
    "fpr_reg, tpr_reg, thresholds_reg = roc_curve(Y_test, y_reg_proba[:,1])\n",
    "roc_auc_reg = auc(fpr_reg, tpr_reg)\n",
    "\n",
    "plt.figure(figsize=(5, 5))\n",
    "plt.plot(fpr_clf, tpr_clf,'b', label='AUC (clf)= %0.2f'% roc_auc_clf)\n",
    "plt.plot(fpr_knn, tpr_knn,'g', label='AUC (knn) = %0.2f'% roc_auc_knn)\n",
    "plt.plot(fpr_reg, tpr_reg,'r', label='AUC (reg) = %0.2f'% roc_auc_reg)\n",
    "plt.legend(loc='lower right')\n",
    "plt.plot([0, 1], [0, 1])\n",
    "plt.ylabel('tpr')\n",
    "plt.xlabel('fpr')\n",
    "plt.grid(True)\n",
    "plt.title('ROC curve')\n",
    "plt.xlim((-0.01, 1.01))\n",
    "plt.ylim((-0.01, 1.01))"
   ]
  },
  {
   "cell_type": "code",
   "execution_count": 28,
   "metadata": {},
   "outputs": [
    {
     "name": "stdout",
     "output_type": "stream",
     "text": [
      "=== Очередной фолд ===\n",
      "Обучение - 22240 объектов, валидация - 2472 объектов\n",
      "Доля откликов: обучение - 0.11276978417266187, валидация - 0.11286407766990292\n",
      "\n",
      "\n",
      "=== Очередной фолд ===\n",
      "Обучение - 22240 объектов, валидация - 2472 объектов\n",
      "Доля откликов: обучение - 0.11276978417266187, валидация - 0.11286407766990292\n",
      "\n",
      "\n",
      "=== Очередной фолд ===\n",
      "Обучение - 22240 объектов, валидация - 2472 объектов\n",
      "Доля откликов: обучение - 0.11276978417266187, валидация - 0.11286407766990292\n",
      "\n",
      "\n",
      "=== Очередной фолд ===\n",
      "Обучение - 22240 объектов, валидация - 2472 объектов\n",
      "Доля откликов: обучение - 0.11276978417266187, валидация - 0.11286407766990292\n",
      "\n",
      "\n",
      "=== Очередной фолд ===\n",
      "Обучение - 22240 объектов, валидация - 2472 объектов\n",
      "Доля откликов: обучение - 0.11276978417266187, валидация - 0.11286407766990292\n",
      "\n",
      "\n",
      "=== Очередной фолд ===\n",
      "Обучение - 22241 объектов, валидация - 2471 объектов\n",
      "Доля откликов: обучение - 0.11276471381682478, валидация - 0.11290975313638203\n",
      "\n",
      "\n",
      "=== Очередной фолд ===\n",
      "Обучение - 22241 объектов, валидация - 2471 объектов\n",
      "Доля откликов: обучение - 0.11276471381682478, валидация - 0.11290975313638203\n",
      "\n",
      "\n",
      "=== Очередной фолд ===\n",
      "Обучение - 22242 объектов, валидация - 2470 объектов\n",
      "Доля откликов: обучение - 0.11280460390252675, валидация - 0.1125506072874494\n",
      "\n",
      "\n",
      "=== Очередной фолд ===\n",
      "Обучение - 22242 объектов, валидация - 2470 объектов\n",
      "Доля откликов: обучение - 0.11280460390252675, валидация - 0.1125506072874494\n",
      "\n",
      "\n",
      "=== Очередной фолд ===\n",
      "Обучение - 22242 объектов, валидация - 2470 объектов\n",
      "Доля откликов: обучение - 0.11280460390252675, валидация - 0.1125506072874494\n",
      "\n",
      "\n"
     ]
    },
    {
     "data": {
      "text/plain": [
       "0.9250947405152499"
      ]
     },
     "execution_count": 28,
     "metadata": {},
     "output_type": "execute_result"
    }
   ],
   "source": [
    "from sklearn.cross_validation import cross_val_score\n",
    "from sklearn.model_selection import StratifiedKFold\n",
    "# Делаем k-fold (10 фолдов) кросс-валидацию каждой модели\n",
    "# Считаем средний roc_auc\n",
    "cv = StratifiedKFold(n_splits=10, shuffle=True, random_state=123)\n",
    "\n",
    "for train_idx, test_idx in cv.split(X, Y):\n",
    "    print('=== Очередной фолд ===')\n",
    "    print('Обучение - {} объектов, валидация - {} объектов'.format(train_idx.shape[0], test_idx.shape[0]))\n",
    "    print('Доля откликов: обучение - {}, валидация - {}'.format(Y[train_idx].mean(), Y[test_idx].mean()))\n",
    "    print('\\n')\n",
    "    \n",
    "scores = cross_val_score(\n",
    "    reg,\n",
    "    X,\n",
    "    Y,\n",
    "    scoring='roc_auc',\n",
    "    cv=10\n",
    ")\n",
    "scores\n",
    "scores.mean()"
   ]
  },
  {
   "cell_type": "code",
   "execution_count": 29,
   "metadata": {},
   "outputs": [
    {
     "name": "stdout",
     "output_type": "stream",
     "text": [
      "=== Очередной фолд ===\n",
      "Обучение - 22240 объектов, валидация - 2472 объектов\n",
      "Доля откликов: обучение - 0.11276978417266187, валидация - 0.11286407766990292\n",
      "\n",
      "\n",
      "=== Очередной фолд ===\n",
      "Обучение - 22240 объектов, валидация - 2472 объектов\n",
      "Доля откликов: обучение - 0.11276978417266187, валидация - 0.11286407766990292\n",
      "\n",
      "\n",
      "=== Очередной фолд ===\n",
      "Обучение - 22240 объектов, валидация - 2472 объектов\n",
      "Доля откликов: обучение - 0.11276978417266187, валидация - 0.11286407766990292\n",
      "\n",
      "\n",
      "=== Очередной фолд ===\n",
      "Обучение - 22240 объектов, валидация - 2472 объектов\n",
      "Доля откликов: обучение - 0.11276978417266187, валидация - 0.11286407766990292\n",
      "\n",
      "\n",
      "=== Очередной фолд ===\n",
      "Обучение - 22240 объектов, валидация - 2472 объектов\n",
      "Доля откликов: обучение - 0.11276978417266187, валидация - 0.11286407766990292\n",
      "\n",
      "\n",
      "=== Очередной фолд ===\n",
      "Обучение - 22241 объектов, валидация - 2471 объектов\n",
      "Доля откликов: обучение - 0.11276471381682478, валидация - 0.11290975313638203\n",
      "\n",
      "\n",
      "=== Очередной фолд ===\n",
      "Обучение - 22241 объектов, валидация - 2471 объектов\n",
      "Доля откликов: обучение - 0.11276471381682478, валидация - 0.11290975313638203\n",
      "\n",
      "\n",
      "=== Очередной фолд ===\n",
      "Обучение - 22242 объектов, валидация - 2470 объектов\n",
      "Доля откликов: обучение - 0.11280460390252675, валидация - 0.1125506072874494\n",
      "\n",
      "\n",
      "=== Очередной фолд ===\n",
      "Обучение - 22242 объектов, валидация - 2470 объектов\n",
      "Доля откликов: обучение - 0.11280460390252675, валидация - 0.1125506072874494\n",
      "\n",
      "\n",
      "=== Очередной фолд ===\n",
      "Обучение - 22242 объектов, валидация - 2470 объектов\n",
      "Доля откликов: обучение - 0.11280460390252675, валидация - 0.1125506072874494\n",
      "\n",
      "\n"
     ]
    },
    {
     "data": {
      "text/plain": [
       "0.9079013078731952"
      ]
     },
     "execution_count": 29,
     "metadata": {},
     "output_type": "execute_result"
    }
   ],
   "source": [
    "from sklearn.cross_validation import cross_val_score\n",
    "from sklearn.model_selection import StratifiedKFold\n",
    "# Делаем k-fold (10 фолдов) кросс-валидацию каждой модели\n",
    "# Считаем средний roc_auc\n",
    "cv = StratifiedKFold(n_splits=10, shuffle=True, random_state=123)\n",
    "\n",
    "for train_idx, test_idx in cv.split(X, Y):\n",
    "    print('=== Очередной фолд ===')\n",
    "    print('Обучение - {} объектов, валидация - {} объектов'.format(train_idx.shape[0], test_idx.shape[0]))\n",
    "    print('Доля откликов: обучение - {}, валидация - {}'.format(Y[train_idx].mean(), Y[test_idx].mean()))\n",
    "    print('\\n')\n",
    "    \n",
    "scores = cross_val_score(\n",
    "    clf,\n",
    "    X,\n",
    "    Y,\n",
    "    scoring='roc_auc',\n",
    "    cv=10\n",
    ")\n",
    "scores\n",
    "scores.mean()"
   ]
  },
  {
   "cell_type": "code",
   "execution_count": 30,
   "metadata": {},
   "outputs": [
    {
     "name": "stdout",
     "output_type": "stream",
     "text": [
      "=== Очередной фолд ===\n",
      "Обучение - 22240 объектов, валидация - 2472 объектов\n",
      "Доля откликов: обучение - 0.11276978417266187, валидация - 0.11286407766990292\n",
      "\n",
      "\n",
      "=== Очередной фолд ===\n",
      "Обучение - 22240 объектов, валидация - 2472 объектов\n",
      "Доля откликов: обучение - 0.11276978417266187, валидация - 0.11286407766990292\n",
      "\n",
      "\n",
      "=== Очередной фолд ===\n",
      "Обучение - 22240 объектов, валидация - 2472 объектов\n",
      "Доля откликов: обучение - 0.11276978417266187, валидация - 0.11286407766990292\n",
      "\n",
      "\n",
      "=== Очередной фолд ===\n",
      "Обучение - 22240 объектов, валидация - 2472 объектов\n",
      "Доля откликов: обучение - 0.11276978417266187, валидация - 0.11286407766990292\n",
      "\n",
      "\n",
      "=== Очередной фолд ===\n",
      "Обучение - 22240 объектов, валидация - 2472 объектов\n",
      "Доля откликов: обучение - 0.11276978417266187, валидация - 0.11286407766990292\n",
      "\n",
      "\n",
      "=== Очередной фолд ===\n",
      "Обучение - 22241 объектов, валидация - 2471 объектов\n",
      "Доля откликов: обучение - 0.11276471381682478, валидация - 0.11290975313638203\n",
      "\n",
      "\n",
      "=== Очередной фолд ===\n",
      "Обучение - 22241 объектов, валидация - 2471 объектов\n",
      "Доля откликов: обучение - 0.11276471381682478, валидация - 0.11290975313638203\n",
      "\n",
      "\n",
      "=== Очередной фолд ===\n",
      "Обучение - 22242 объектов, валидация - 2470 объектов\n",
      "Доля откликов: обучение - 0.11280460390252675, валидация - 0.1125506072874494\n",
      "\n",
      "\n",
      "=== Очередной фолд ===\n",
      "Обучение - 22242 объектов, валидация - 2470 объектов\n",
      "Доля откликов: обучение - 0.11280460390252675, валидация - 0.1125506072874494\n",
      "\n",
      "\n",
      "=== Очередной фолд ===\n",
      "Обучение - 22242 объектов, валидация - 2470 объектов\n",
      "Доля откликов: обучение - 0.11280460390252675, валидация - 0.1125506072874494\n",
      "\n",
      "\n"
     ]
    },
    {
     "data": {
      "text/plain": [
       "0.7114110251591683"
      ]
     },
     "execution_count": 30,
     "metadata": {},
     "output_type": "execute_result"
    }
   ],
   "source": [
    "from sklearn.cross_validation import cross_val_score\n",
    "from sklearn.model_selection import StratifiedKFold\n",
    "# Делаем k-fold (10 фолдов) кросс-валидацию каждой модели\n",
    "# Считаем средний roc_auc\n",
    "cv = StratifiedKFold(n_splits=10, shuffle=True, random_state=123)\n",
    "\n",
    "for train_idx, test_idx in cv.split(X, Y):\n",
    "    print('=== Очередной фолд ===')\n",
    "    print('Обучение - {} объектов, валидация - {} объектов'.format(train_idx.shape[0], test_idx.shape[0]))\n",
    "    print('Доля откликов: обучение - {}, валидация - {}'.format(Y[train_idx].mean(), Y[test_idx].mean()))\n",
    "    print('\\n')\n",
    "    \n",
    "scores = cross_val_score(\n",
    "    knn,\n",
    "    X,\n",
    "    Y,\n",
    "    scoring='roc_auc',\n",
    "    cv=10\n",
    ")\n",
    "scores\n",
    "scores.mean()"
   ]
  },
  {
   "cell_type": "code",
   "execution_count": 31,
   "metadata": {},
   "outputs": [
    {
     "data": {
      "text/plain": [
       "array([[0.31377981, 0.68622019],\n",
       "       [0.99119624, 0.00880376],\n",
       "       [0.99111079, 0.00888921],\n",
       "       ...,\n",
       "       [0.99222103, 0.00777897],\n",
       "       [0.81118667, 0.18881333],\n",
       "       [0.97967813, 0.02032187]])"
      ]
     },
     "execution_count": 31,
     "metadata": {},
     "output_type": "execute_result"
    }
   ],
   "source": [
    "# Взять лучшую модель и сделать predict для test выборки\n",
    "reg = LogisticRegression(C=1.0, fit_intercept=True, penalty='l2')\n",
    "reg.fit(X_train, Y_train)\n",
    "y_reg = reg.predict(X_test)\n",
    "y_reg_proba = reg.predict_proba(X_test)\n",
    "y_reg_proba"
   ]
  },
  {
   "cell_type": "code",
   "execution_count": 32,
   "metadata": {},
   "outputs": [
    {
     "data": {
      "text/plain": [
       "0.9276431742118618"
      ]
     },
     "execution_count": 32,
     "metadata": {},
     "output_type": "execute_result"
    }
   ],
   "source": [
    "# Померить roc_auc на тесте\n",
    "\n",
    "y_reg_proba = reg.predict_proba(X_test)[:,1]\n",
    "roc_auc_score(Y_test,y_reg_proba)"
   ]
  }
 ],
 "metadata": {
  "anaconda-cloud": {},
  "kernelspec": {
   "display_name": "Python 3",
   "language": "python",
   "name": "python3"
  },
  "language_info": {
   "codemirror_mode": {
    "name": "ipython",
    "version": 3
   },
   "file_extension": ".py",
   "mimetype": "text/x-python",
   "name": "python",
   "nbconvert_exporter": "python",
   "pygments_lexer": "ipython3",
   "version": "3.6.5"
  },
  "toc": {
   "colors": {
    "hover_highlight": "#DAA520",
    "navigate_num": "#000000",
    "navigate_text": "#333333",
    "running_highlight": "#FF0000",
    "selected_highlight": "#FFD700",
    "sidebar_border": "#EEEEEE",
    "wrapper_background": "#FFFFFF"
   },
   "moveMenuLeft": true,
   "nav_menu": {
    "height": "31px",
    "width": "253px"
   },
   "navigate_menu": true,
   "number_sections": false,
   "sideBar": true,
   "threshold": 4,
   "toc_cell": false,
   "toc_section_display": "block",
   "toc_window_display": false,
   "widenNotebook": false
  }
 },
 "nbformat": 4,
 "nbformat_minor": 2
}
